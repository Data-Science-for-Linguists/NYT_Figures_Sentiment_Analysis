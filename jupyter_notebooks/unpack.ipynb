{
 "cells": [
  {
   "cell_type": "markdown",
   "metadata": {},
   "source": [
    "# Unpack\n",
    "\n",
    "`unpack.ipynb` is a utility used to process the NYT Annotated Corpus' XML files to extract particular tags of information, and append it to a DataFrame. A file is generated from this script that will be used for further processing.  \n",
    "\n",
    "  \n",
    "  The files produced from the script are used in later ones ( `processing.ipynb` and `analysis.ipynb` )\n",
    "  \n",
    "  Running time for the script can be lengthy depending on the values entered for year, month, and date.\n",
    "  \n",
    "  ---\n",
    "  \n",
    "### Table of Contents  \n",
    "- [Import Libraries](#Import-Libraries)\n",
    "- [Create a List to Collect Data](#Create-a-List-to-Collect-Data)\n",
    "- [Set the Dates of Desired Files](#Set-the-Dates-of-Desired-Files)\n",
    "- [Begin Processing Files from NYT Annotated Corpus](#Begin-Processing-Files-from-NYT-Annotated-Corpus)\n",
    "- [Create and Sort the DataFrame](#Create-and-Sort-the-DataFrame)\n",
    "- [Verify that the DataFrame is Sorted at the Beginning](#Verify-that-the-DataFrame-is-Sorted-at-the-Beginning)\n",
    "- [Verify that the DataFrame is Sorted at the End](#Verify-that-the-DataFrame-is-Sorted-at-the-End)\n",
    "- [Write Out the Resulting DataFrame to a File](#Write-Out-the-Resulting-DataFrame-to-a-File)"
   ]
  },
  {
   "cell_type": "markdown",
   "metadata": {},
   "source": [
    "### Import Libraries\n",
    "The XML library is used to parse and traverse the .xml files provided in the corpus.  \n",
    "The glob library is used to be able to find files using regular expressions to loop through multiple files.  \n",
    "The pandas library is used to hold all of the information that is extracted from the corpus.  \n",
    "The pickle library is used to serialize the DataFrame object into a file, to be loaded and used by another script."
   ]
  },
  {
   "cell_type": "code",
   "execution_count": 1,
   "metadata": {
    "collapsed": true
   },
   "outputs": [],
   "source": [
    "import xml.etree.ElementTree as Et\n",
    "import glob\n",
    "import pandas as pd\n",
    "import pickle"
   ]
  },
  {
   "cell_type": "markdown",
   "metadata": {},
   "source": [
    "### Create a List to Collect Data\n",
    "Appending large data to a list and then converting it to a DataFrame has proven _MUCH_ faster than appending rows to a DataFrame directly."
   ]
  },
  {
   "cell_type": "code",
   "execution_count": 2,
   "metadata": {
    "collapsed": true
   },
   "outputs": [],
   "source": [
    "gather_data = []"
   ]
  },
  {
   "cell_type": "markdown",
   "metadata": {},
   "source": [
    "### Set the Dates of Desired Files\n",
    "The variables used below are able to be modified in order to determine what month, day, and year to extract and process files from.  \n",
    "All values are in numerical format. Single digit values are expressed as `01`, `02`, `...`, `09`.  \n",
    "If you wish to use all of a specific type of value, use the `*` instead of a number."
   ]
  },
  {
   "cell_type": "code",
   "execution_count": 3,
   "metadata": {
    "collapsed": true
   },
   "outputs": [],
   "source": [
    "year = \"2000\"\n",
    "month = \"*\"\n",
    "day = \"*\""
   ]
  },
  {
   "cell_type": "markdown",
   "metadata": {},
   "source": [
    "### Begin Processing Files from NYT Annotated Corpus\n",
    "Using the values for year, month, day, the glob library is able to get the file names that match a particular path, represented as a regular expression.  \n",
    "  \n",
    "The data being extracted are:\n",
    "- docid\n",
    "- date\n",
    "- month\n",
    "- year\n",
    "- identified name\n",
    "\n",
    "  \n",
    "Values are stored in a DataFrame called `data`.  "
   ]
  },
  {
   "cell_type": "code",
   "execution_count": 4,
   "metadata": {
    "collapsed": true
   },
   "outputs": [],
   "source": [
    "# open each xml file in the specified folder, open it and print out the names of mentioned people\n",
    "for file in glob.glob(\"../data/NYT Corpus/nyt_corpus/data/\"+year+\"/\"+month+\"/\"+day+\"/*.xml\"):\n",
    "    # parse the xml file into an element tree to extract data\n",
    "    tree = Et.parse(file)\n",
    "    root = tree.getroot()\n",
    "    \n",
    "    # get document id information (not sure if I need this yet, seems like it could be helpful)\n",
    "    docid = root.find('.//doc-id[@id-string]').attrib['id-string']\n",
    "        \n",
    "    # get publication date information\n",
    "    date = root.find(\".//meta[@name='publication_day_of_month']\").attrib['content']\n",
    "    month = root.find(\".//meta[@name='publication_month']\").attrib['content']\n",
    "    year = root.find(\".//meta[@name='publication_year']\").attrib['content']\n",
    "    \n",
    "    # get article text information\n",
    "    # some articles seem to lack text - this is caught and handled in the if/else\n",
    "    article = root.find(\".//block[@class='full_text']/p\")\n",
    "    if article is not None:\n",
    "        text = (article.text).lower()\n",
    "    else:\n",
    "        text = None\n",
    "        \n",
    "    # get all of the classifer information\n",
    "    doctypes = \"\"\n",
    "    for d in root.iter('classifier'):\n",
    "        doctypes += str(d.text).upper() + \"|\"\n",
    "        \n",
    "    # for each person mentioned, create a new row of data for them in the dataframe    \n",
    "    for c in root.iter('person'):\n",
    "        name = str(c.text).upper()\n",
    "        cur = [docid, date, month, year, name, text, doctypes]\n",
    "        gather_data.append(cur)"
   ]
  },
  {
   "cell_type": "markdown",
   "metadata": {},
   "source": [
    "### Create and Sort the DataFrame\n",
    "This creates a new, empty DataFrame to read in information from the NYT Annotated Corpus.  \n",
    "For readability, the DataFrame is sorted below by Month and then by Date. The minimum preferred granularity for processing files is by year. Any larger than that and the script would take too long to execute."
   ]
  },
  {
   "cell_type": "code",
   "execution_count": 5,
   "metadata": {
    "collapsed": true
   },
   "outputs": [],
   "source": [
    "columns = ['DOCID', 'Date', 'Month', 'Year', 'Name', 'Text', 'Doctypes']\n",
    "data = pd.DataFrame(gather_data, columns=columns)\n",
    "data = data.sort_values(ascending=[True, True], by=['Month', 'Date'])"
   ]
  },
  {
   "cell_type": "markdown",
   "metadata": {},
   "source": [
    "### Verify that the DataFrame is Sorted at the Beginning"
   ]
  },
  {
   "cell_type": "code",
   "execution_count": 6,
   "metadata": {},
   "outputs": [
    {
     "data": {
      "text/html": [
       "<div>\n",
       "<style>\n",
       "    .dataframe thead tr:only-child th {\n",
       "        text-align: right;\n",
       "    }\n",
       "\n",
       "    .dataframe thead th {\n",
       "        text-align: left;\n",
       "    }\n",
       "\n",
       "    .dataframe tbody tr th {\n",
       "        vertical-align: top;\n",
       "    }\n",
       "</style>\n",
       "<table border=\"1\" class=\"dataframe\">\n",
       "  <thead>\n",
       "    <tr style=\"text-align: right;\">\n",
       "      <th></th>\n",
       "      <th>DOCID</th>\n",
       "      <th>Date</th>\n",
       "      <th>Month</th>\n",
       "      <th>Year</th>\n",
       "      <th>Name</th>\n",
       "      <th>Text</th>\n",
       "      <th>Doctypes</th>\n",
       "    </tr>\n",
       "  </thead>\n",
       "  <tbody>\n",
       "    <tr>\n",
       "      <th>115964</th>\n",
       "      <td>1165229</td>\n",
       "      <td>1</td>\n",
       "      <td>1</td>\n",
       "      <td>2000</td>\n",
       "      <td>BERAKHA, ESTHER (NEE ROSSI)</td>\n",
       "      <td>berakha-esther (nee rossi). of manhattan, died...</td>\n",
       "      <td>PAID DEATH NOTICE|TOP/CLASSIFIEDS/PAID DEATH N...</td>\n",
       "    </tr>\n",
       "    <tr>\n",
       "      <th>115965</th>\n",
       "      <td>1165201</td>\n",
       "      <td>1</td>\n",
       "      <td>1</td>\n",
       "      <td>2000</td>\n",
       "      <td>MUNOZ MARQUEZ, SANDRA</td>\n",
       "      <td>the spare farmsteads and bony milk cows of san...</td>\n",
       "      <td>IMMIGRATION AND REFUGEES|HISTORY|CHRONOLOGY|TO...</td>\n",
       "    </tr>\n",
       "    <tr>\n",
       "      <th>115966</th>\n",
       "      <td>1165201</td>\n",
       "      <td>1</td>\n",
       "      <td>1</td>\n",
       "      <td>2000</td>\n",
       "      <td>MARQUEZ MARTINEZ, ENRIQUETA</td>\n",
       "      <td>the spare farmsteads and bony milk cows of san...</td>\n",
       "      <td>IMMIGRATION AND REFUGEES|HISTORY|CHRONOLOGY|TO...</td>\n",
       "    </tr>\n",
       "    <tr>\n",
       "      <th>115967</th>\n",
       "      <td>1165201</td>\n",
       "      <td>1</td>\n",
       "      <td>1</td>\n",
       "      <td>2000</td>\n",
       "      <td>PRESTON, JULIA</td>\n",
       "      <td>the spare farmsteads and bony milk cows of san...</td>\n",
       "      <td>IMMIGRATION AND REFUGEES|HISTORY|CHRONOLOGY|TO...</td>\n",
       "    </tr>\n",
       "    <tr>\n",
       "      <th>115968</th>\n",
       "      <td>1165163</td>\n",
       "      <td>1</td>\n",
       "      <td>1</td>\n",
       "      <td>2000</td>\n",
       "      <td>FITZGERALD, F SCOTT (1896-1940)</td>\n",
       "      <td>to the editor:</td>\n",
       "      <td>BOOKS AND LITERATURE|FORECASTS|LETTER|TOP/OPIN...</td>\n",
       "    </tr>\n",
       "  </tbody>\n",
       "</table>\n",
       "</div>"
      ],
      "text/plain": [
       "          DOCID Date Month  Year                             Name  \\\n",
       "115964  1165229    1     1  2000      BERAKHA, ESTHER (NEE ROSSI)   \n",
       "115965  1165201    1     1  2000            MUNOZ MARQUEZ, SANDRA   \n",
       "115966  1165201    1     1  2000      MARQUEZ MARTINEZ, ENRIQUETA   \n",
       "115967  1165201    1     1  2000                   PRESTON, JULIA   \n",
       "115968  1165163    1     1  2000  FITZGERALD, F SCOTT (1896-1940)   \n",
       "\n",
       "                                                     Text  \\\n",
       "115964  berakha-esther (nee rossi). of manhattan, died...   \n",
       "115965  the spare farmsteads and bony milk cows of san...   \n",
       "115966  the spare farmsteads and bony milk cows of san...   \n",
       "115967  the spare farmsteads and bony milk cows of san...   \n",
       "115968                                     to the editor:   \n",
       "\n",
       "                                                 Doctypes  \n",
       "115964  PAID DEATH NOTICE|TOP/CLASSIFIEDS/PAID DEATH N...  \n",
       "115965  IMMIGRATION AND REFUGEES|HISTORY|CHRONOLOGY|TO...  \n",
       "115966  IMMIGRATION AND REFUGEES|HISTORY|CHRONOLOGY|TO...  \n",
       "115967  IMMIGRATION AND REFUGEES|HISTORY|CHRONOLOGY|TO...  \n",
       "115968  BOOKS AND LITERATURE|FORECASTS|LETTER|TOP/OPIN...  "
      ]
     },
     "execution_count": 6,
     "metadata": {},
     "output_type": "execute_result"
    }
   ],
   "source": [
    "data.head()"
   ]
  },
  {
   "cell_type": "markdown",
   "metadata": {},
   "source": [
    "### Verify that the DataFrame is Sorted at the End"
   ]
  },
  {
   "cell_type": "code",
   "execution_count": 7,
   "metadata": {},
   "outputs": [
    {
     "data": {
      "text/html": [
       "<div>\n",
       "<style>\n",
       "    .dataframe thead tr:only-child th {\n",
       "        text-align: right;\n",
       "    }\n",
       "\n",
       "    .dataframe thead th {\n",
       "        text-align: left;\n",
       "    }\n",
       "\n",
       "    .dataframe tbody tr th {\n",
       "        vertical-align: top;\n",
       "    }\n",
       "</style>\n",
       "<table border=\"1\" class=\"dataframe\">\n",
       "  <thead>\n",
       "    <tr style=\"text-align: right;\">\n",
       "      <th></th>\n",
       "      <th>DOCID</th>\n",
       "      <th>Date</th>\n",
       "      <th>Month</th>\n",
       "      <th>Year</th>\n",
       "      <th>Name</th>\n",
       "      <th>Text</th>\n",
       "      <th>Doctypes</th>\n",
       "    </tr>\n",
       "  </thead>\n",
       "  <tbody>\n",
       "    <tr>\n",
       "      <th>92583</th>\n",
       "      <td>1228940</td>\n",
       "      <td>9</td>\n",
       "      <td>9</td>\n",
       "      <td>2000</td>\n",
       "      <td>WONG, EDWARD</td>\n",
       "      <td>yasir arafat had deadlines to meet. take, for ...</td>\n",
       "      <td>AIRLINES AND AIRPLANES|KENNEDY INTERNATIONAL A...</td>\n",
       "    </tr>\n",
       "    <tr>\n",
       "      <th>92584</th>\n",
       "      <td>1228940</td>\n",
       "      <td>9</td>\n",
       "      <td>9</td>\n",
       "      <td>2000</td>\n",
       "      <td>ASPARRO, VITO (SGT)</td>\n",
       "      <td>yasir arafat had deadlines to meet. take, for ...</td>\n",
       "      <td>AIRLINES AND AIRPLANES|KENNEDY INTERNATIONAL A...</td>\n",
       "    </tr>\n",
       "    <tr>\n",
       "      <th>92585</th>\n",
       "      <td>1229069</td>\n",
       "      <td>9</td>\n",
       "      <td>9</td>\n",
       "      <td>2000</td>\n",
       "      <td>CHANG, DAVID J.Y.</td>\n",
       "      <td>chang-david j.y., passed on september 7, in ne...</td>\n",
       "      <td>PAID DEATH NOTICE|TOP/CLASSIFIEDS/PAID DEATH N...</td>\n",
       "    </tr>\n",
       "    <tr>\n",
       "      <th>92586</th>\n",
       "      <td>1229055</td>\n",
       "      <td>9</td>\n",
       "      <td>9</td>\n",
       "      <td>2000</td>\n",
       "      <td>BUSH, GEORGE W (GOV)</td>\n",
       "      <td>the 2000 campaign</td>\n",
       "      <td>PRESIDENTIAL ELECTION OF 2000|CAPTION|TOP/NEWS...</td>\n",
       "    </tr>\n",
       "    <tr>\n",
       "      <th>92587</th>\n",
       "      <td>1229082</td>\n",
       "      <td>9</td>\n",
       "      <td>9</td>\n",
       "      <td>2000</td>\n",
       "      <td>SHAPIRO, IRVING</td>\n",
       "      <td>shapiro-irving. beloved father of barbara meye...</td>\n",
       "      <td>PAID DEATH NOTICE|TOP/CLASSIFIEDS/PAID DEATH N...</td>\n",
       "    </tr>\n",
       "  </tbody>\n",
       "</table>\n",
       "</div>"
      ],
      "text/plain": [
       "         DOCID Date Month  Year                  Name  \\\n",
       "92583  1228940    9     9  2000          WONG, EDWARD   \n",
       "92584  1228940    9     9  2000   ASPARRO, VITO (SGT)   \n",
       "92585  1229069    9     9  2000     CHANG, DAVID J.Y.   \n",
       "92586  1229055    9     9  2000  BUSH, GEORGE W (GOV)   \n",
       "92587  1229082    9     9  2000       SHAPIRO, IRVING   \n",
       "\n",
       "                                                    Text  \\\n",
       "92583  yasir arafat had deadlines to meet. take, for ...   \n",
       "92584  yasir arafat had deadlines to meet. take, for ...   \n",
       "92585  chang-david j.y., passed on september 7, in ne...   \n",
       "92586                                  the 2000 campaign   \n",
       "92587  shapiro-irving. beloved father of barbara meye...   \n",
       "\n",
       "                                                Doctypes  \n",
       "92583  AIRLINES AND AIRPLANES|KENNEDY INTERNATIONAL A...  \n",
       "92584  AIRLINES AND AIRPLANES|KENNEDY INTERNATIONAL A...  \n",
       "92585  PAID DEATH NOTICE|TOP/CLASSIFIEDS/PAID DEATH N...  \n",
       "92586  PRESIDENTIAL ELECTION OF 2000|CAPTION|TOP/NEWS...  \n",
       "92587  PAID DEATH NOTICE|TOP/CLASSIFIEDS/PAID DEATH N...  "
      ]
     },
     "execution_count": 7,
     "metadata": {},
     "output_type": "execute_result"
    }
   ],
   "source": [
    "data.tail()"
   ]
  },
  {
   "cell_type": "markdown",
   "metadata": {},
   "source": [
    "### Write Out the Resulting DataFrame to a File\n",
    "The DataFrame is serialized below using the pickle library. The filename is taken from the `year` variable. Pickle files from this script carry the `.p` extension."
   ]
  },
  {
   "cell_type": "code",
   "execution_count": 8,
   "metadata": {
    "collapsed": true
   },
   "outputs": [],
   "source": [
    "pickle.dump(data, open(\"nyt-\" + year + \".p\", \"wb\"))"
   ]
  }
 ],
 "metadata": {
  "kernelspec": {
   "display_name": "Python 3",
   "language": "python",
   "name": "python3"
  },
  "language_info": {
   "codemirror_mode": {
    "name": "ipython",
    "version": 3
   },
   "file_extension": ".py",
   "mimetype": "text/x-python",
   "name": "python",
   "nbconvert_exporter": "python",
   "pygments_lexer": "ipython3",
   "version": "3.6.2"
  }
 },
 "nbformat": 4,
 "nbformat_minor": 2
}
