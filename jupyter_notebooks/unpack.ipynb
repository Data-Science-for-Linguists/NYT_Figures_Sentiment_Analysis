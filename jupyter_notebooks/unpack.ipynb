{
 "cells": [
  {
   "cell_type": "markdown",
   "metadata": {},
   "source": [
    "# Unpack\n",
    "\n",
    "`unpack.ipynb` is a utility used to process the NYT Annotated Corpus' XML files to extract particular tags of information, and append it to a DataFrame. A file is generated from this script that will be used for further processing.  \n",
    "\n",
    "  \n",
    "  The files produced from the script are used in later ones ( `processing.ipynb` and `analysis.ipynb` )\n",
    "  \n",
    "  Running time for the script can be lengthy depending on the values entered for year, month, and date.\n",
    "  \n",
    "  ---\n",
    "  \n",
    "### Table of Contents  \n",
    "- [Import Libraries](#Import-Libraries)\n",
    "- [Create a List to Collect Data](#Create-a-List-to-Collect-Data)\n",
    "- [Set the Dates of Desired Files](#Set-the-Dates-of-Desired-Files)\n",
    "- [Begin Processing Files from NYT Annotated Corpus](#Begin-Processing-Files-from-NYT-Annotated-Corpus)\n",
    "- [Create and Sort the DataFrame](#Create-and-Sort-the-DataFrame)\n",
    "- [Verify that the DataFrame is Sorted at the Beginning](#Verify-that-the-DataFrame-is-Sorted-at-the-Beginning)\n",
    "- [Verify that the DataFrame is Sorted at the End](#Verify-that-the-DataFrame-is-Sorted-at-the-End)\n",
    "- [Write Out the Resulting DataFrame to a File](#Write-Out-the-Resulting-DataFrame-to-a-File)"
   ]
  },
  {
   "cell_type": "markdown",
   "metadata": {},
   "source": [
    "### Import Libraries\n",
    "The XML library is used to parse and traverse the .xml files provided in the corpus.  \n",
    "The glob library is used to be able to find files using regular expressions to loop through multiple files.  \n",
    "The pandas library is used to hold all of the information that is extracted from the corpus.  \n",
    "The pickle library is used to serialize the DataFrame object into a file, to be loaded and used by another script."
   ]
  },
  {
   "cell_type": "code",
   "execution_count": 1,
   "metadata": {
    "collapsed": true
   },
   "outputs": [],
   "source": [
    "import xml.etree.ElementTree as Et\n",
    "import glob\n",
    "import pandas as pd\n",
    "import pickle"
   ]
  },
  {
   "cell_type": "markdown",
   "metadata": {},
   "source": [
    "### Create a List to Collect Data\n",
    "Appending large data to a list and then converting it to a DataFrame has proven _MUCH_ faster than appending rows to a DataFrame directly."
   ]
  },
  {
   "cell_type": "code",
   "execution_count": 2,
   "metadata": {
    "collapsed": true
   },
   "outputs": [],
   "source": [
    "gather_data = []"
   ]
  },
  {
   "cell_type": "markdown",
   "metadata": {},
   "source": [
    "### Set the Dates of Desired Files\n",
    "The variables used below are able to be modified in order to determine what month, day, and year to extract and process files from.  \n",
    "All values are in numerical format. Single digit values are expressed as `01`, `02`, `...`, `09`.  \n",
    "If you wish to use all of a specific type of value, use the `*` instead of a number."
   ]
  },
  {
   "cell_type": "code",
   "execution_count": 3,
   "metadata": {
    "collapsed": true
   },
   "outputs": [],
   "source": [
    "year = \"2007\"\n",
    "month = \"*\"\n",
    "day = \"*\""
   ]
  },
  {
   "cell_type": "markdown",
   "metadata": {},
   "source": [
    "### Begin Processing Files from NYT Annotated Corpus\n",
    "Using the values for year, month, day, the glob library is able to get the file names that match a particular path, represented as a regular expression.  \n",
    "  \n",
    "The data being extracted are:\n",
    "- docid\n",
    "- date\n",
    "- month\n",
    "- year\n",
    "- identified name\n",
    "\n",
    "  \n",
    "Values are stored in a DataFrame called `data`.  "
   ]
  },
  {
   "cell_type": "code",
   "execution_count": 4,
   "metadata": {
    "collapsed": true
   },
   "outputs": [],
   "source": [
    "# open each xml file in the specified folder, open it and print out the names of mentioned people\n",
    "for file in glob.glob(\"../data/NYT Corpus/nyt_corpus/data/\"+year+\"/\"+month+\"/\"+day+\"/*.xml\"):\n",
    "    # parse the xml file into an element tree to extract data\n",
    "    tree = Et.parse(file)\n",
    "    root = tree.getroot()\n",
    "    \n",
    "    # get document id information (not sure if I need this yet, seems like it could be helpful)\n",
    "    docid = root.find('.//doc-id[@id-string]').attrib['id-string']\n",
    "        \n",
    "    # get publication date information\n",
    "    date = root.find(\".//meta[@name='publication_day_of_month']\").attrib['content']\n",
    "    month = root.find(\".//meta[@name='publication_month']\").attrib['content']\n",
    "    year = root.find(\".//meta[@name='publication_year']\").attrib['content']\n",
    "    \n",
    "    # get article text information\n",
    "    # some articles seem to lack text - this is caught and handled in the if/else\n",
    "    article = root.find(\".//block[@class='full_text']/p\")\n",
    "    if article is not None:\n",
    "        text = (article.text).lower()\n",
    "    else:\n",
    "        text = None\n",
    "        \n",
    "    # get all of the classifer information\n",
    "    doctypes = \"\"\n",
    "    for d in root.iter('classifier'):\n",
    "        doctypes += str(d.text).upper() + \"|\"\n",
    "        \n",
    "    # for each person mentioned, create a new row of data for them in the dataframe    \n",
    "    for c in root.iter('person'):\n",
    "        name = str(c.text).upper()\n",
    "        cur = [docid, date, month, year, name, text, doctypes]\n",
    "        gather_data.append(cur)"
   ]
  },
  {
   "cell_type": "markdown",
   "metadata": {},
   "source": [
    "### Create and Sort the DataFrame\n",
    "This creates a new, empty DataFrame to read in information from the NYT Annotated Corpus.  \n",
    "For readability, the DataFrame is sorted below by Month and then by Date. The minimum preferred granularity for processing files is by year. Any larger than that and the script would take too long to execute."
   ]
  },
  {
   "cell_type": "code",
   "execution_count": 5,
   "metadata": {
    "collapsed": true
   },
   "outputs": [],
   "source": [
    "columns = ['DOCID', 'Date', 'Month', 'Year', 'Name', 'Text', 'Doctypes']\n",
    "data = pd.DataFrame(gather_data, columns=columns)\n",
    "data = data.sort_values(ascending=[True, True], by=['Month', 'Date'])"
   ]
  },
  {
   "cell_type": "markdown",
   "metadata": {},
   "source": [
    "### Verify that the DataFrame is Sorted at the Beginning"
   ]
  },
  {
   "cell_type": "code",
   "execution_count": 6,
   "metadata": {},
   "outputs": [
    {
     "data": {
      "text/html": [
       "<div>\n",
       "<style>\n",
       "    .dataframe thead tr:only-child th {\n",
       "        text-align: right;\n",
       "    }\n",
       "\n",
       "    .dataframe thead th {\n",
       "        text-align: left;\n",
       "    }\n",
       "\n",
       "    .dataframe tbody tr th {\n",
       "        vertical-align: top;\n",
       "    }\n",
       "</style>\n",
       "<table border=\"1\" class=\"dataframe\">\n",
       "  <thead>\n",
       "    <tr style=\"text-align: right;\">\n",
       "      <th></th>\n",
       "      <th>DOCID</th>\n",
       "      <th>Date</th>\n",
       "      <th>Month</th>\n",
       "      <th>Year</th>\n",
       "      <th>Name</th>\n",
       "      <th>Text</th>\n",
       "      <th>Doctypes</th>\n",
       "    </tr>\n",
       "  </thead>\n",
       "  <tbody>\n",
       "    <tr>\n",
       "      <th>47030</th>\n",
       "      <td>1815832</td>\n",
       "      <td>1</td>\n",
       "      <td>1</td>\n",
       "      <td>2007</td>\n",
       "      <td>BROWN, CLIFTON</td>\n",
       "      <td>while the green bay packers wonder about brett...</td>\n",
       "      <td>FOOTBALL|TOP/NEWS|TOP/NEWS/SPORTS|TOP/NEWS/SPO...</td>\n",
       "    </tr>\n",
       "    <tr>\n",
       "      <th>47031</th>\n",
       "      <td>1815832</td>\n",
       "      <td>1</td>\n",
       "      <td>1</td>\n",
       "      <td>2007</td>\n",
       "      <td>FAVRE, BRETT</td>\n",
       "      <td>while the green bay packers wonder about brett...</td>\n",
       "      <td>FOOTBALL|TOP/NEWS|TOP/NEWS/SPORTS|TOP/NEWS/SPO...</td>\n",
       "    </tr>\n",
       "    <tr>\n",
       "      <th>47032</th>\n",
       "      <td>1815832</td>\n",
       "      <td>1</td>\n",
       "      <td>1</td>\n",
       "      <td>2007</td>\n",
       "      <td>GROSSMAN, REX</td>\n",
       "      <td>while the green bay packers wonder about brett...</td>\n",
       "      <td>FOOTBALL|TOP/NEWS|TOP/NEWS/SPORTS|TOP/NEWS/SPO...</td>\n",
       "    </tr>\n",
       "    <tr>\n",
       "      <th>47033</th>\n",
       "      <td>1815826</td>\n",
       "      <td>1</td>\n",
       "      <td>1</td>\n",
       "      <td>2007</td>\n",
       "      <td>BOOTY, JOHN DAVID</td>\n",
       "      <td>None</td>\n",
       "      <td>FOOTBALL|ROSE BOWL (FOOTBALL GAME)|CAPTION|FOO...</td>\n",
       "    </tr>\n",
       "    <tr>\n",
       "      <th>47034</th>\n",
       "      <td>1815826</td>\n",
       "      <td>1</td>\n",
       "      <td>1</td>\n",
       "      <td>2007</td>\n",
       "      <td>HENNE, CHAD</td>\n",
       "      <td>None</td>\n",
       "      <td>FOOTBALL|ROSE BOWL (FOOTBALL GAME)|CAPTION|FOO...</td>\n",
       "    </tr>\n",
       "  </tbody>\n",
       "</table>\n",
       "</div>"
      ],
      "text/plain": [
       "         DOCID Date Month  Year               Name  \\\n",
       "47030  1815832    1     1  2007     BROWN, CLIFTON   \n",
       "47031  1815832    1     1  2007       FAVRE, BRETT   \n",
       "47032  1815832    1     1  2007      GROSSMAN, REX   \n",
       "47033  1815826    1     1  2007  BOOTY, JOHN DAVID   \n",
       "47034  1815826    1     1  2007        HENNE, CHAD   \n",
       "\n",
       "                                                    Text  \\\n",
       "47030  while the green bay packers wonder about brett...   \n",
       "47031  while the green bay packers wonder about brett...   \n",
       "47032  while the green bay packers wonder about brett...   \n",
       "47033                                               None   \n",
       "47034                                               None   \n",
       "\n",
       "                                                Doctypes  \n",
       "47030  FOOTBALL|TOP/NEWS|TOP/NEWS/SPORTS|TOP/NEWS/SPO...  \n",
       "47031  FOOTBALL|TOP/NEWS|TOP/NEWS/SPORTS|TOP/NEWS/SPO...  \n",
       "47032  FOOTBALL|TOP/NEWS|TOP/NEWS/SPORTS|TOP/NEWS/SPO...  \n",
       "47033  FOOTBALL|ROSE BOWL (FOOTBALL GAME)|CAPTION|FOO...  \n",
       "47034  FOOTBALL|ROSE BOWL (FOOTBALL GAME)|CAPTION|FOO...  "
      ]
     },
     "execution_count": 6,
     "metadata": {},
     "output_type": "execute_result"
    }
   ],
   "source": [
    "data.head()"
   ]
  },
  {
   "cell_type": "markdown",
   "metadata": {},
   "source": [
    "### Verify that the DataFrame is Sorted at the End"
   ]
  },
  {
   "cell_type": "code",
   "execution_count": 7,
   "metadata": {},
   "outputs": [
    {
     "data": {
      "text/html": [
       "<div>\n",
       "<style>\n",
       "    .dataframe thead tr:only-child th {\n",
       "        text-align: right;\n",
       "    }\n",
       "\n",
       "    .dataframe thead th {\n",
       "        text-align: left;\n",
       "    }\n",
       "\n",
       "    .dataframe tbody tr th {\n",
       "        vertical-align: top;\n",
       "    }\n",
       "</style>\n",
       "<table border=\"1\" class=\"dataframe\">\n",
       "  <thead>\n",
       "    <tr style=\"text-align: right;\">\n",
       "      <th></th>\n",
       "      <th>DOCID</th>\n",
       "      <th>Date</th>\n",
       "      <th>Month</th>\n",
       "      <th>Year</th>\n",
       "      <th>Name</th>\n",
       "      <th>Text</th>\n",
       "      <th>Doctypes</th>\n",
       "    </tr>\n",
       "  </thead>\n",
       "  <tbody>\n",
       "    <tr>\n",
       "      <th>54782</th>\n",
       "      <td>1853117</td>\n",
       "      <td>9</td>\n",
       "      <td>6</td>\n",
       "      <td>2007</td>\n",
       "      <td>PERKINS, THOMAS</td>\n",
       "      <td>to the editor:</td>\n",
       "      <td>ROADS AND TRAFFIC|TOLLS|LETTER|TOP/OPINION/OPI...</td>\n",
       "    </tr>\n",
       "    <tr>\n",
       "      <th>54783</th>\n",
       "      <td>1853117</td>\n",
       "      <td>9</td>\n",
       "      <td>6</td>\n",
       "      <td>2007</td>\n",
       "      <td>BLOOMBERG, MICHAEL R (MAYOR)</td>\n",
       "      <td>to the editor:</td>\n",
       "      <td>ROADS AND TRAFFIC|TOLLS|LETTER|TOP/OPINION/OPI...</td>\n",
       "    </tr>\n",
       "    <tr>\n",
       "      <th>54784</th>\n",
       "      <td>1853103</td>\n",
       "      <td>9</td>\n",
       "      <td>6</td>\n",
       "      <td>2007</td>\n",
       "      <td>ERLANGER, STEVEN</td>\n",
       "      <td>the palestinian prime minister, ismail haniya ...</td>\n",
       "      <td>PALESTINIANS|TOP/NEWS|TOP/NEWS/WORLD/COUNTRIES...</td>\n",
       "    </tr>\n",
       "    <tr>\n",
       "      <th>54785</th>\n",
       "      <td>1853103</td>\n",
       "      <td>9</td>\n",
       "      <td>6</td>\n",
       "      <td>2007</td>\n",
       "      <td>HANIYA, ISMAIL</td>\n",
       "      <td>the palestinian prime minister, ismail haniya ...</td>\n",
       "      <td>PALESTINIANS|TOP/NEWS|TOP/NEWS/WORLD/COUNTRIES...</td>\n",
       "    </tr>\n",
       "    <tr>\n",
       "      <th>54786</th>\n",
       "      <td>1853103</td>\n",
       "      <td>9</td>\n",
       "      <td>6</td>\n",
       "      <td>2007</td>\n",
       "      <td>HANIYA, ISMAIL</td>\n",
       "      <td>the palestinian prime minister, ismail haniya ...</td>\n",
       "      <td>PALESTINIANS|TOP/NEWS|TOP/NEWS/WORLD/COUNTRIES...</td>\n",
       "    </tr>\n",
       "  </tbody>\n",
       "</table>\n",
       "</div>"
      ],
      "text/plain": [
       "         DOCID Date Month  Year                          Name  \\\n",
       "54782  1853117    9     6  2007               PERKINS, THOMAS   \n",
       "54783  1853117    9     6  2007  BLOOMBERG, MICHAEL R (MAYOR)   \n",
       "54784  1853103    9     6  2007              ERLANGER, STEVEN   \n",
       "54785  1853103    9     6  2007                HANIYA, ISMAIL   \n",
       "54786  1853103    9     6  2007                HANIYA, ISMAIL   \n",
       "\n",
       "                                                    Text  \\\n",
       "54782                                     to the editor:   \n",
       "54783                                     to the editor:   \n",
       "54784  the palestinian prime minister, ismail haniya ...   \n",
       "54785  the palestinian prime minister, ismail haniya ...   \n",
       "54786  the palestinian prime minister, ismail haniya ...   \n",
       "\n",
       "                                                Doctypes  \n",
       "54782  ROADS AND TRAFFIC|TOLLS|LETTER|TOP/OPINION/OPI...  \n",
       "54783  ROADS AND TRAFFIC|TOLLS|LETTER|TOP/OPINION/OPI...  \n",
       "54784  PALESTINIANS|TOP/NEWS|TOP/NEWS/WORLD/COUNTRIES...  \n",
       "54785  PALESTINIANS|TOP/NEWS|TOP/NEWS/WORLD/COUNTRIES...  \n",
       "54786  PALESTINIANS|TOP/NEWS|TOP/NEWS/WORLD/COUNTRIES...  "
      ]
     },
     "execution_count": 7,
     "metadata": {},
     "output_type": "execute_result"
    }
   ],
   "source": [
    "data.tail()"
   ]
  },
  {
   "cell_type": "markdown",
   "metadata": {},
   "source": [
    "### Write Out the Resulting DataFrame to a File\n",
    "The DataFrame is serialized below using the pickle library. The filename is taken from the `year` variable. Pickle files from this script carry the `.p` extension."
   ]
  },
  {
   "cell_type": "code",
   "execution_count": 8,
   "metadata": {
    "collapsed": true
   },
   "outputs": [],
   "source": [
    "pickle.dump(data, open(\"nyt-\" + year + \".p\", \"wb\"))"
   ]
  }
 ],
 "metadata": {
  "kernelspec": {
   "display_name": "Python 3",
   "language": "python",
   "name": "python3"
  },
  "language_info": {
   "codemirror_mode": {
    "name": "ipython",
    "version": 3
   },
   "file_extension": ".py",
   "mimetype": "text/x-python",
   "name": "python",
   "nbconvert_exporter": "python",
   "pygments_lexer": "ipython3",
   "version": "3.6.2"
  }
 },
 "nbformat": 4,
 "nbformat_minor": 2
}
