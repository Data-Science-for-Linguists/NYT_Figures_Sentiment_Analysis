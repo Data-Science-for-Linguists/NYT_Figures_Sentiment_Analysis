{
 "cells": [
  {
   "cell_type": "markdown",
   "metadata": {},
   "source": [
    "# Unpack\n",
    "\n",
    "`unpack.ipynb` is a utility used to process the NYT Annotated Corpus' XML files to extract particular tags of information, and append it to a DataFrame. A file is generated from this script that will be used for further processing.  \n",
    "\n",
    "  \n",
    "  The files produced from the script are used in later ones ( `processing.ipynb` and `analysis.ipynb` )"
   ]
  },
  {
   "cell_type": "markdown",
   "metadata": {},
   "source": [
    "### Import Libraries\n",
    "The XML library is used to parse and traverse the .xml files provided in the corpus.  \n",
    "The glob library is used to be able to find files using regular expressions to loop through multiple files.  \n",
    "The pandas library is used to hold all of the information that is extracted from the corpus.  \n",
    "The pickle library is used to serialize the DataFrame object into a file, to be loaded and used by another script."
   ]
  },
  {
   "cell_type": "code",
   "execution_count": 10,
   "metadata": {
    "collapsed": true
   },
   "outputs": [],
   "source": [
    "import xml.etree.ElementTree as Et\n",
    "import glob\n",
    "import pandas as pd\n",
    "import pickle"
   ]
  },
  {
   "cell_type": "markdown",
   "metadata": {},
   "source": [
    "### Create a New DataFrame\n",
    "This creates a new, empty DataFrame to read in information from the NYT Annotated Corpus."
   ]
  },
  {
   "cell_type": "code",
   "execution_count": 2,
   "metadata": {
    "collapsed": true
   },
   "outputs": [],
   "source": [
    "columns = ['DOCID', 'Date', 'Month', 'Year', 'Name', 'Text']\n",
    "data = pd.DataFrame(columns=columns)"
   ]
  },
  {
   "cell_type": "markdown",
   "metadata": {},
   "source": [
    "### Set the Dates of Desired Files\n",
    "The variables used below are able to be modified in order to determine what month, day, and year to extract and process files from.  \n",
    "All values are in numerical format. Single digit values are expressed as `01`, `02`, `...`, `09`.  \n",
    "If you wish to use all of a specific type of value, use the `*` instead of a number."
   ]
  },
  {
   "cell_type": "code",
   "execution_count": 3,
   "metadata": {
    "collapsed": true
   },
   "outputs": [],
   "source": [
    "year = \"2005\"\n",
    "month = \"*\"\n",
    "day = \"*\""
   ]
  },
  {
   "cell_type": "markdown",
   "metadata": {},
   "source": [
    "### Begin Processing Files from NYT Annotated Corpus\n",
    "Using the values for year, month, day, the glob library is able to get the file names that match a particular path, represented as a regular expression.  \n",
    "  \n",
    "The data being extracted are:\n",
    "- docid\n",
    "- date\n",
    "- month\n",
    "- year\n",
    "- identified name\n",
    "\n",
    "  \n",
    "Values are stored in a DataFrame called `data`.  "
   ]
  },
  {
   "cell_type": "code",
   "execution_count": 4,
   "metadata": {},
   "outputs": [
    {
     "ename": "KeyboardInterrupt",
     "evalue": "",
     "output_type": "error",
     "traceback": [
      "\u001b[0;31m---------------------------------------------------------------------------\u001b[0m",
      "\u001b[0;31mKeyboardInterrupt\u001b[0m                         Traceback (most recent call last)",
      "\u001b[0;32m<ipython-input-4-0619ada60e7d>\u001b[0m in \u001b[0;36m<module>\u001b[0;34m()\u001b[0m\n\u001b[1;32m     24\u001b[0m     \u001b[0;32mfor\u001b[0m \u001b[0mc\u001b[0m \u001b[0;32min\u001b[0m \u001b[0mroot\u001b[0m\u001b[0;34m.\u001b[0m\u001b[0miter\u001b[0m\u001b[0;34m(\u001b[0m\u001b[0;34m'person'\u001b[0m\u001b[0;34m)\u001b[0m\u001b[0;34m:\u001b[0m\u001b[0;34m\u001b[0m\u001b[0m\n\u001b[1;32m     25\u001b[0m         \u001b[0mname\u001b[0m \u001b[0;34m=\u001b[0m \u001b[0mstr\u001b[0m\u001b[0;34m(\u001b[0m\u001b[0mc\u001b[0m\u001b[0;34m.\u001b[0m\u001b[0mtext\u001b[0m\u001b[0;34m)\u001b[0m\u001b[0;34m.\u001b[0m\u001b[0mupper\u001b[0m\u001b[0;34m(\u001b[0m\u001b[0;34m)\u001b[0m\u001b[0;34m\u001b[0m\u001b[0m\n\u001b[0;32m---> 26\u001b[0;31m         \u001b[0mdata\u001b[0m \u001b[0;34m=\u001b[0m \u001b[0mdata\u001b[0m\u001b[0;34m.\u001b[0m\u001b[0mappend\u001b[0m\u001b[0;34m(\u001b[0m\u001b[0;34m[\u001b[0m\u001b[0;34m{\u001b[0m\u001b[0;34m'DOCID'\u001b[0m\u001b[0;34m:\u001b[0m \u001b[0mdocid\u001b[0m\u001b[0;34m,\u001b[0m \u001b[0;34m'Date'\u001b[0m\u001b[0;34m:\u001b[0m \u001b[0mdate\u001b[0m\u001b[0;34m,\u001b[0m \u001b[0;34m'Month'\u001b[0m\u001b[0;34m:\u001b[0m \u001b[0mmonth\u001b[0m\u001b[0;34m,\u001b[0m \u001b[0;34m'Year'\u001b[0m\u001b[0;34m:\u001b[0m \u001b[0myear\u001b[0m\u001b[0;34m,\u001b[0m \u001b[0;34m'Name'\u001b[0m\u001b[0;34m:\u001b[0m \u001b[0mname\u001b[0m\u001b[0;34m,\u001b[0m \u001b[0;34m'Text'\u001b[0m\u001b[0;34m:\u001b[0m \u001b[0mtext\u001b[0m\u001b[0;34m}\u001b[0m\u001b[0;34m]\u001b[0m\u001b[0;34m)\u001b[0m\u001b[0;34m\u001b[0m\u001b[0m\n\u001b[0m",
      "\u001b[0;31mKeyboardInterrupt\u001b[0m: "
     ]
    }
   ],
   "source": [
    "# open each xml file in the specified folder, open it and print out the names of mentioned people\n",
    "for file in glob.glob(\"../data/NYT Corpus/nyt_corpus/data/\"+year+\"/\"+month+\"/\"+day+\"/*.xml\"):\n",
    "    # parse the xml file into an element tree to extract data\n",
    "    tree = Et.parse(file)\n",
    "    root = tree.getroot()\n",
    "    \n",
    "    # get document id information (not sure if I need this yet, seems like it could be helpful)\n",
    "    docid = root.find('.//doc-id[@id-string]').attrib['id-string']\n",
    "        \n",
    "    # get publication date information\n",
    "    date = root.find(\".//meta[@name='publication_day_of_month']\").attrib['content']\n",
    "    month = root.find(\".//meta[@name='publication_month']\").attrib['content']\n",
    "    year = root.find(\".//meta[@name='publication_year']\").attrib['content']\n",
    "    \n",
    "    # get article text information\n",
    "    # some articles seem to lack text - this is caught and handled in the if/else\n",
    "    article = root.find(\".//block[@class='full_text']/p\")\n",
    "    if article is not None:\n",
    "        text = (article.text).lower()\n",
    "    else:\n",
    "        text = None\n",
    "        \n",
    "    # for each person mentioned, create a new row of data for them in the dataframe    \n",
    "    for c in root.iter('person'):\n",
    "        name = str(c.text).upper()\n",
    "        data = data.append([{'DOCID': docid, 'Date': date, 'Month': month, 'Year': year, 'Name': name, 'Text': text}])\n"
   ]
  },
  {
   "cell_type": "markdown",
   "metadata": {},
   "source": [
    "### Sort the DataFrame\n",
    "For readability, the DataFrame is sorted below by Month and then by Date. The minimum preferred granularity for processing files is by year. Any larger than that and the script would take too long to execute."
   ]
  },
  {
   "cell_type": "code",
   "execution_count": 12,
   "metadata": {
    "collapsed": true
   },
   "outputs": [],
   "source": [
    "data = data.sort_values(ascending=[True, True], by=['Month', 'Date'])"
   ]
  },
  {
   "cell_type": "markdown",
   "metadata": {},
   "source": [
    "### Verify that the DataFrame is Sorted at the Beginning"
   ]
  },
  {
   "cell_type": "code",
   "execution_count": 18,
   "metadata": {},
   "outputs": [
    {
     "data": {
      "text/html": [
       "<div>\n",
       "<style>\n",
       "    .dataframe thead tr:only-child th {\n",
       "        text-align: right;\n",
       "    }\n",
       "\n",
       "    .dataframe thead th {\n",
       "        text-align: left;\n",
       "    }\n",
       "\n",
       "    .dataframe tbody tr th {\n",
       "        vertical-align: top;\n",
       "    }\n",
       "</style>\n",
       "<table border=\"1\" class=\"dataframe\">\n",
       "  <thead>\n",
       "    <tr style=\"text-align: right;\">\n",
       "      <th></th>\n",
       "      <th>DOCID</th>\n",
       "      <th>Date</th>\n",
       "      <th>Month</th>\n",
       "      <th>Year</th>\n",
       "      <th>Name</th>\n",
       "      <th>Text</th>\n",
       "    </tr>\n",
       "  </thead>\n",
       "  <tbody>\n",
       "    <tr>\n",
       "      <th>0</th>\n",
       "      <td>1638807</td>\n",
       "      <td>1</td>\n",
       "      <td>1</td>\n",
       "      <td>2005</td>\n",
       "      <td>GRIST, KEITH PAUL</td>\n",
       "      <td>grist--keith paul july 24, 1967 - january 1, 1...</td>\n",
       "    </tr>\n",
       "    <tr>\n",
       "      <th>0</th>\n",
       "      <td>1638740</td>\n",
       "      <td>1</td>\n",
       "      <td>1</td>\n",
       "      <td>2005</td>\n",
       "      <td>HORN, SHIRLEY</td>\n",
       "      <td>shirley horn needs a quiet spot to really come...</td>\n",
       "    </tr>\n",
       "    <tr>\n",
       "      <th>0</th>\n",
       "      <td>1638740</td>\n",
       "      <td>1</td>\n",
       "      <td>1</td>\n",
       "      <td>2005</td>\n",
       "      <td>RATLIFF, BEN</td>\n",
       "      <td>shirley horn needs a quiet spot to really come...</td>\n",
       "    </tr>\n",
       "    <tr>\n",
       "      <th>0</th>\n",
       "      <td>1638754</td>\n",
       "      <td>1</td>\n",
       "      <td>1</td>\n",
       "      <td>2005</td>\n",
       "      <td>DAY-LEWIS, DANIEL</td>\n",
       "      <td>welcome to 2005: the year of the french and in...</td>\n",
       "    </tr>\n",
       "    <tr>\n",
       "      <th>0</th>\n",
       "      <td>1638754</td>\n",
       "      <td>1</td>\n",
       "      <td>1</td>\n",
       "      <td>2005</td>\n",
       "      <td>COOPER, JAMES FENIMORE</td>\n",
       "      <td>welcome to 2005: the year of the french and in...</td>\n",
       "    </tr>\n",
       "  </tbody>\n",
       "</table>\n",
       "</div>"
      ],
      "text/plain": [
       "     DOCID Date Month  Year                    Name  \\\n",
       "0  1638807    1     1  2005       GRIST, KEITH PAUL   \n",
       "0  1638740    1     1  2005           HORN, SHIRLEY   \n",
       "0  1638740    1     1  2005            RATLIFF, BEN   \n",
       "0  1638754    1     1  2005       DAY-LEWIS, DANIEL   \n",
       "0  1638754    1     1  2005  COOPER, JAMES FENIMORE   \n",
       "\n",
       "                                                Text  \n",
       "0  grist--keith paul july 24, 1967 - january 1, 1...  \n",
       "0  shirley horn needs a quiet spot to really come...  \n",
       "0  shirley horn needs a quiet spot to really come...  \n",
       "0  welcome to 2005: the year of the french and in...  \n",
       "0  welcome to 2005: the year of the french and in...  "
      ]
     },
     "execution_count": 18,
     "metadata": {},
     "output_type": "execute_result"
    }
   ],
   "source": [
    "data.head()"
   ]
  },
  {
   "cell_type": "markdown",
   "metadata": {},
   "source": [
    "### Verify that the DataFrame is Sorted at the End"
   ]
  },
  {
   "cell_type": "code",
   "execution_count": 19,
   "metadata": {},
   "outputs": [
    {
     "data": {
      "text/html": [
       "<div>\n",
       "<style>\n",
       "    .dataframe thead tr:only-child th {\n",
       "        text-align: right;\n",
       "    }\n",
       "\n",
       "    .dataframe thead th {\n",
       "        text-align: left;\n",
       "    }\n",
       "\n",
       "    .dataframe tbody tr th {\n",
       "        vertical-align: top;\n",
       "    }\n",
       "</style>\n",
       "<table border=\"1\" class=\"dataframe\">\n",
       "  <thead>\n",
       "    <tr style=\"text-align: right;\">\n",
       "      <th></th>\n",
       "      <th>DOCID</th>\n",
       "      <th>Date</th>\n",
       "      <th>Month</th>\n",
       "      <th>Year</th>\n",
       "      <th>Name</th>\n",
       "      <th>Text</th>\n",
       "    </tr>\n",
       "  </thead>\n",
       "  <tbody>\n",
       "    <tr>\n",
       "      <th>0</th>\n",
       "      <td>1700601</td>\n",
       "      <td>9</td>\n",
       "      <td>9</td>\n",
       "      <td>2005</td>\n",
       "      <td>CLINTON, BILL</td>\n",
       "      <td>samuel r. berger, an influential adviser to fo...</td>\n",
       "    </tr>\n",
       "    <tr>\n",
       "      <th>0</th>\n",
       "      <td>1700601</td>\n",
       "      <td>9</td>\n",
       "      <td>9</td>\n",
       "      <td>2005</td>\n",
       "      <td>ROBINSON, DEBORAH (MAGISTRATE)</td>\n",
       "      <td>samuel r. berger, an influential adviser to fo...</td>\n",
       "    </tr>\n",
       "    <tr>\n",
       "      <th>0</th>\n",
       "      <td>1700601</td>\n",
       "      <td>9</td>\n",
       "      <td>9</td>\n",
       "      <td>2005</td>\n",
       "      <td>LICHTBLAU, ERIC</td>\n",
       "      <td>samuel r. berger, an influential adviser to fo...</td>\n",
       "    </tr>\n",
       "    <tr>\n",
       "      <th>0</th>\n",
       "      <td>1700601</td>\n",
       "      <td>9</td>\n",
       "      <td>9</td>\n",
       "      <td>2005</td>\n",
       "      <td>BERGER, SAMUEL R</td>\n",
       "      <td>samuel r. berger, an influential adviser to fo...</td>\n",
       "    </tr>\n",
       "    <tr>\n",
       "      <th>0</th>\n",
       "      <td>1700583</td>\n",
       "      <td>9</td>\n",
       "      <td>9</td>\n",
       "      <td>2005</td>\n",
       "      <td>KAMP, NINA</td>\n",
       "      <td>it was not a good summer in iraq. after the mi...</td>\n",
       "    </tr>\n",
       "  </tbody>\n",
       "</table>\n",
       "</div>"
      ],
      "text/plain": [
       "     DOCID Date Month  Year                            Name  \\\n",
       "0  1700601    9     9  2005                   CLINTON, BILL   \n",
       "0  1700601    9     9  2005  ROBINSON, DEBORAH (MAGISTRATE)   \n",
       "0  1700601    9     9  2005                 LICHTBLAU, ERIC   \n",
       "0  1700601    9     9  2005                BERGER, SAMUEL R   \n",
       "0  1700583    9     9  2005                      KAMP, NINA   \n",
       "\n",
       "                                                Text  \n",
       "0  samuel r. berger, an influential adviser to fo...  \n",
       "0  samuel r. berger, an influential adviser to fo...  \n",
       "0  samuel r. berger, an influential adviser to fo...  \n",
       "0  samuel r. berger, an influential adviser to fo...  \n",
       "0  it was not a good summer in iraq. after the mi...  "
      ]
     },
     "execution_count": 19,
     "metadata": {},
     "output_type": "execute_result"
    }
   ],
   "source": [
    "data.tail()"
   ]
  },
  {
   "cell_type": "markdown",
   "metadata": {},
   "source": [
    "### Write Out the Resulting DataFrame to a File\n",
    "The DataFrame is serialized below using the pickle library. The filename is taken from the `year` variable. Pickle files from this script carry the `.p` extension."
   ]
  },
  {
   "cell_type": "code",
   "execution_count": 20,
   "metadata": {
    "collapsed": true
   },
   "outputs": [],
   "source": [
    "pickle.dump(data, open(\"nyt-\" + year + \".p\", \"wb\"))"
   ]
  }
 ],
 "metadata": {
  "kernelspec": {
   "display_name": "Python 3",
   "language": "python",
   "name": "python3"
  },
  "language_info": {
   "codemirror_mode": {
    "name": "ipython",
    "version": 3
   },
   "file_extension": ".py",
   "mimetype": "text/x-python",
   "name": "python",
   "nbconvert_exporter": "python",
   "pygments_lexer": "ipython3",
   "version": "3.6.2"
  }
 },
 "nbformat": 4,
 "nbformat_minor": 2
}
