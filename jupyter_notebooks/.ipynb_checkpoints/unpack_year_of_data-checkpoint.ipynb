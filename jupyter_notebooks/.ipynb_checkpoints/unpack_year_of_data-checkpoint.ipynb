{
 "cells": [
  {
   "cell_type": "markdown",
   "metadata": {},
   "source": [
    "# This is a utility derived from my data_processing file to generate a pickled file of a years worth of data in a dataframe\n",
    "This can take several minutes"
   ]
  },
  {
   "cell_type": "code",
   "execution_count": 1,
   "metadata": {
    "collapsed": true
   },
   "outputs": [],
   "source": [
    "# import libraries\n",
    "import xml.etree.ElementTree as Et\n",
    "import glob\n",
    "import pandas as pd\n",
    "import nltk\n",
    "from nltk.corpus import stopwords\n",
    "import string\n",
    "import matplotlib.pyplot as plt"
   ]
  },
  {
   "cell_type": "code",
   "execution_count": 2,
   "metadata": {
    "collapsed": true
   },
   "outputs": [],
   "source": [
    "# create new dataframe with empty data\n",
    "columns = ['DOCID', 'Date', 'Month', 'Year', 'Name', 'Text']\n",
    "data = pd.DataFrame(columns=columns)"
   ]
  },
  {
   "cell_type": "code",
   "execution_count": 3,
   "metadata": {
    "collapsed": true
   },
   "outputs": [],
   "source": [
    "# create year variable\n",
    "# use this to select the year you want to save\n",
    "year = \"2007\""
   ]
  },
  {
   "cell_type": "code",
   "execution_count": 4,
   "metadata": {},
   "outputs": [],
   "source": [
    "# open each xml file in the specified folder, open it and print out the names of mentioned people\n",
    "for file in glob.glob(\"../data/NYT Corpus/nyt_corpus/data/\" + year + \"/*/*/*.xml\"):\n",
    "    # parse the xml file into an element tree to extract data\n",
    "    tree = Et.parse(file)\n",
    "    root = tree.getroot()\n",
    "    \n",
    "    # get document id information (not sure if I need this yet, seems like it could be helpful)\n",
    "    docid = root.find('.//doc-id[@id-string]').attrib['id-string']\n",
    "    \n",
    "    # get publication date information\n",
    "    date = root.find(\".//meta[@name='publication_day_of_month']\").attrib['content']\n",
    "    month = root.find(\".//meta[@name='publication_month']\").attrib['content']\n",
    "    year = root.find(\".//meta[@name='publication_year']\").attrib['content']\n",
    "    \n",
    "    # get article text information\n",
    "    # some articles seem to lack text - this is caught and handled in the if/else\n",
    "    article = root.find(\".//block[@class='full_text']/p\")\n",
    "    if article is not None:\n",
    "        text = (article.text).lower()\n",
    "    else:\n",
    "        text = None\n",
    "        \n",
    "    # for each person mentioned, create a new row of data for them in the dataframe    \n",
    "    for c in root.iter('person'):\n",
    "        name = str(c.text).upper()\n",
    "        data = data.append([{'DOCID': docid, 'Date': date, 'Month': month, 'Year': year, 'Name': name, 'Text': text}])\n"
   ]
  },
  {
   "cell_type": "code",
   "execution_count": 5,
   "metadata": {},
   "outputs": [
    {
     "data": {
      "text/html": [
       "<div>\n",
       "<style>\n",
       "    .dataframe thead tr:only-child th {\n",
       "        text-align: right;\n",
       "    }\n",
       "\n",
       "    .dataframe thead th {\n",
       "        text-align: left;\n",
       "    }\n",
       "\n",
       "    .dataframe tbody tr th {\n",
       "        vertical-align: top;\n",
       "    }\n",
       "</style>\n",
       "<table border=\"1\" class=\"dataframe\">\n",
       "  <thead>\n",
       "    <tr style=\"text-align: right;\">\n",
       "      <th></th>\n",
       "      <th>DOCID</th>\n",
       "      <th>Date</th>\n",
       "      <th>Month</th>\n",
       "      <th>Year</th>\n",
       "      <th>Name</th>\n",
       "      <th>Text</th>\n",
       "    </tr>\n",
       "  </thead>\n",
       "  <tbody>\n",
       "    <tr>\n",
       "      <th>0</th>\n",
       "      <td>1815718</td>\n",
       "      <td>1</td>\n",
       "      <td>1</td>\n",
       "      <td>2007</td>\n",
       "      <td>BLUMENTHAL, MARTIN</td>\n",
       "      <td>blumenthal--martin. a new york business man an...</td>\n",
       "    </tr>\n",
       "    <tr>\n",
       "      <th>0</th>\n",
       "      <td>1815719</td>\n",
       "      <td>1</td>\n",
       "      <td>1</td>\n",
       "      <td>2007</td>\n",
       "      <td>BRADLEY, CAROL L.</td>\n",
       "      <td>bradley--carol l., 84, of tinton falls, nj die...</td>\n",
       "    </tr>\n",
       "    <tr>\n",
       "      <th>0</th>\n",
       "      <td>1815720</td>\n",
       "      <td>1</td>\n",
       "      <td>1</td>\n",
       "      <td>2007</td>\n",
       "      <td>CRAWFORD, PERRY JR.</td>\n",
       "      <td>crawford--perry jr., died at 89 on december 13...</td>\n",
       "    </tr>\n",
       "    <tr>\n",
       "      <th>0</th>\n",
       "      <td>1815721</td>\n",
       "      <td>1</td>\n",
       "      <td>1</td>\n",
       "      <td>2007</td>\n",
       "      <td>FLOOD, ROBERT FRANCIS</td>\n",
       "      <td>flood--robert francis, husband of the late cat...</td>\n",
       "    </tr>\n",
       "    <tr>\n",
       "      <th>0</th>\n",
       "      <td>1815722</td>\n",
       "      <td>1</td>\n",
       "      <td>1</td>\n",
       "      <td>2007</td>\n",
       "      <td>GEISLER, ENID (FRIEDMAN)</td>\n",
       "      <td>geisler--enid (friedman), on december 29, 2006...</td>\n",
       "    </tr>\n",
       "  </tbody>\n",
       "</table>\n",
       "</div>"
      ],
      "text/plain": [
       "     DOCID Date Month  Year                      Name  \\\n",
       "0  1815718    1     1  2007        BLUMENTHAL, MARTIN   \n",
       "0  1815719    1     1  2007         BRADLEY, CAROL L.   \n",
       "0  1815720    1     1  2007       CRAWFORD, PERRY JR.   \n",
       "0  1815721    1     1  2007     FLOOD, ROBERT FRANCIS   \n",
       "0  1815722    1     1  2007  GEISLER, ENID (FRIEDMAN)   \n",
       "\n",
       "                                                Text  \n",
       "0  blumenthal--martin. a new york business man an...  \n",
       "0  bradley--carol l., 84, of tinton falls, nj die...  \n",
       "0  crawford--perry jr., died at 89 on december 13...  \n",
       "0  flood--robert francis, husband of the late cat...  \n",
       "0  geisler--enid (friedman), on december 29, 2006...  "
      ]
     },
     "execution_count": 5,
     "metadata": {},
     "output_type": "execute_result"
    }
   ],
   "source": [
    "data.head()"
   ]
  },
  {
   "cell_type": "code",
   "execution_count": 6,
   "metadata": {},
   "outputs": [
    {
     "data": {
      "text/html": [
       "<div>\n",
       "<style>\n",
       "    .dataframe thead tr:only-child th {\n",
       "        text-align: right;\n",
       "    }\n",
       "\n",
       "    .dataframe thead th {\n",
       "        text-align: left;\n",
       "    }\n",
       "\n",
       "    .dataframe tbody tr th {\n",
       "        vertical-align: top;\n",
       "    }\n",
       "</style>\n",
       "<table border=\"1\" class=\"dataframe\">\n",
       "  <thead>\n",
       "    <tr style=\"text-align: right;\">\n",
       "      <th></th>\n",
       "      <th>DOCID</th>\n",
       "      <th>Date</th>\n",
       "      <th>Month</th>\n",
       "      <th>Year</th>\n",
       "      <th>Name</th>\n",
       "      <th>Text</th>\n",
       "    </tr>\n",
       "  </thead>\n",
       "  <tbody>\n",
       "    <tr>\n",
       "      <th>0</th>\n",
       "      <td>1855658</td>\n",
       "      <td>19</td>\n",
       "      <td>6</td>\n",
       "      <td>2007</td>\n",
       "      <td>ABBAS, MAHMOUD (PRES)</td>\n",
       "      <td>so the masked men of fatah have the run of the...</td>\n",
       "    </tr>\n",
       "    <tr>\n",
       "      <th>0</th>\n",
       "      <td>1855660</td>\n",
       "      <td>19</td>\n",
       "      <td>6</td>\n",
       "      <td>2007</td>\n",
       "      <td>BERGER, RUSS</td>\n",
       "      <td>i've been in the business of designing broadca...</td>\n",
       "    </tr>\n",
       "    <tr>\n",
       "      <th>0</th>\n",
       "      <td>1855660</td>\n",
       "      <td>19</td>\n",
       "      <td>6</td>\n",
       "      <td>2007</td>\n",
       "      <td>RAYMOND, JOAN</td>\n",
       "      <td>i've been in the business of designing broadca...</td>\n",
       "    </tr>\n",
       "    <tr>\n",
       "      <th>0</th>\n",
       "      <td>1855660</td>\n",
       "      <td>19</td>\n",
       "      <td>6</td>\n",
       "      <td>2007</td>\n",
       "      <td>BOLTON, MICHAEL</td>\n",
       "      <td>i've been in the business of designing broadca...</td>\n",
       "    </tr>\n",
       "    <tr>\n",
       "      <th>0</th>\n",
       "      <td>1855662</td>\n",
       "      <td>19</td>\n",
       "      <td>6</td>\n",
       "      <td>2007</td>\n",
       "      <td>SHARKEY, JOE</td>\n",
       "      <td>i don't know if the air taxi model will work. ...</td>\n",
       "    </tr>\n",
       "  </tbody>\n",
       "</table>\n",
       "</div>"
      ],
      "text/plain": [
       "     DOCID Date Month  Year                   Name  \\\n",
       "0  1855658   19     6  2007  ABBAS, MAHMOUD (PRES)   \n",
       "0  1855660   19     6  2007           BERGER, RUSS   \n",
       "0  1855660   19     6  2007          RAYMOND, JOAN   \n",
       "0  1855660   19     6  2007        BOLTON, MICHAEL   \n",
       "0  1855662   19     6  2007           SHARKEY, JOE   \n",
       "\n",
       "                                                Text  \n",
       "0  so the masked men of fatah have the run of the...  \n",
       "0  i've been in the business of designing broadca...  \n",
       "0  i've been in the business of designing broadca...  \n",
       "0  i've been in the business of designing broadca...  \n",
       "0  i don't know if the air taxi model will work. ...  "
      ]
     },
     "execution_count": 6,
     "metadata": {},
     "output_type": "execute_result"
    }
   ],
   "source": [
    "data.tail()"
   ]
  },
  {
   "cell_type": "code",
   "execution_count": 7,
   "metadata": {
    "collapsed": true
   },
   "outputs": [],
   "source": [
    "# PICKLE THE FILE TO SAVE IT\n",
    "import pickle\n",
    "pickle.dump(data, open(\"nyt-\" + year + \".p\", \"wb\"))"
   ]
  }
 ],
 "metadata": {
  "kernelspec": {
   "display_name": "Python 3",
   "language": "python",
   "name": "python3"
  },
  "language_info": {
   "codemirror_mode": {
    "name": "ipython",
    "version": 3
   },
   "file_extension": ".py",
   "mimetype": "text/x-python",
   "name": "python",
   "nbconvert_exporter": "python",
   "pygments_lexer": "ipython3",
   "version": "3.6.2"
  }
 },
 "nbformat": 4,
 "nbformat_minor": 2
}
