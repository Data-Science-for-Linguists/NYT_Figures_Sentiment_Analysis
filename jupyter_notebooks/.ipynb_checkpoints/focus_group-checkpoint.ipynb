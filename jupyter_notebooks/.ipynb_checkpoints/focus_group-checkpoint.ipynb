{
 "cells": [
  {
   "cell_type": "markdown",
   "metadata": {},
   "source": [
    "# Focus Group - People of Interest\n",
    "This simple script save a list of people of interest for analysis and save it as a file."
   ]
  },
  {
   "cell_type": "markdown",
   "metadata": {},
   "source": [
    "### Import Necessary Libraries"
   ]
  },
  {
   "cell_type": "code",
   "execution_count": 7,
   "metadata": {
    "collapsed": true
   },
   "outputs": [],
   "source": [
    "import pickle"
   ]
  },
  {
   "cell_type": "markdown",
   "metadata": {},
   "source": [
    "### Create List of Names to Investigate\n",
    "Below is a list of names to investigate for futher analysis"
   ]
  },
  {
   "cell_type": "code",
   "execution_count": 8,
   "metadata": {},
   "outputs": [
    {
     "data": {
      "text/plain": [
       "['TRUMP, DONALD',\n",
       " 'OBAMA, BARACK',\n",
       " 'BUSH, GEORGE W.',\n",
       " 'CLINTON, BILL',\n",
       " 'BUSH, GEORGE H.W.',\n",
       " 'REAGAN, RONALD']"
      ]
     },
     "execution_count": 8,
     "metadata": {},
     "output_type": "execute_result"
    }
   ],
   "source": [
    "names = [\n",
    "    \"TRUMP, DONALD\",\n",
    "    \"OBAMA, BARACK\",\n",
    "    \"BUSH, GEORGE W.\",\n",
    "    \"CLINTON, BILL\",\n",
    "    \"BUSH, GEORGE H.W.\",\n",
    "    \"REAGAN, RONALD\",\n",
    "]\n",
    "names"
   ]
  },
  {
   "cell_type": "markdown",
   "metadata": {},
   "source": [
    "### Save the `Names` Object\n",
    "The variable `names` is saved as a file, called `poi.p`, below."
   ]
  },
  {
   "cell_type": "code",
   "execution_count": 9,
   "metadata": {
    "collapsed": true
   },
   "outputs": [],
   "source": [
    "pickle.dump(names, open(\"poi.p\", \"wb\"))"
   ]
  }
 ],
 "metadata": {
  "kernelspec": {
   "display_name": "Python 3",
   "language": "python",
   "name": "python3"
  },
  "language_info": {
   "codemirror_mode": {
    "name": "ipython",
    "version": 3
   },
   "file_extension": ".py",
   "mimetype": "text/x-python",
   "name": "python",
   "nbconvert_exporter": "python",
   "pygments_lexer": "ipython3",
   "version": "3.6.2"
  }
 },
 "nbformat": 4,
 "nbformat_minor": 2
}
