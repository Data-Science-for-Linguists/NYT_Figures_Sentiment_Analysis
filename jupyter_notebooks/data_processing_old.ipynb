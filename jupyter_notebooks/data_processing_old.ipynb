{
 "cells": [
  {
   "cell_type": "markdown",
   "metadata": {
    "collapsed": true
   },
   "source": [
    "# Data Cleaning and Processing\n",
    "- This small data set uses only 1 folder from the NYT Corpus [Articles from Jan 1 2007]\n",
    "- This is to make sure that the script works before scaling up to the entire corpus\n",
    "\n",
    "This script is mainly focusing on extracting and cleaning up the data. Then it will import the data into a pandas DataFrame. From there I can begin manipulate the data to take a form that will be more userful for doing the sentiment analysis.  \n",
    "  \n",
    "Because the NYT Corpus is already annotated and has a well-defined structure, cleaning is not as much of an issue as opposed to extracting the desired data for processing. \n",
    "\n",
    "----For Progress Report 2, I'm using my existing script and adding onto it. "
   ]
  },
  {
   "cell_type": "code",
   "execution_count": 1,
   "metadata": {
    "collapsed": true
   },
   "outputs": [],
   "source": [
    "from IPython.core.interactiveshell import InteractiveShell\n",
    "InteractiveShell.ast_node_interactivity = \"all\""
   ]
  },
  {
   "cell_type": "code",
   "execution_count": 2,
   "metadata": {
    "collapsed": true
   },
   "outputs": [],
   "source": [
    "# import libraries\n",
    "import xml.etree.ElementTree as Et\n",
    "import glob\n",
    "import pandas as pd\n",
    "import nltk\n",
    "from nltk.corpus import stopwords\n",
    "import string\n",
    "import matplotlib.pyplot as plt"
   ]
  },
  {
   "cell_type": "code",
   "execution_count": 3,
   "metadata": {
    "collapsed": true
   },
   "outputs": [],
   "source": [
    "# create new dataframe with empty data\n",
    "columns = ['DOCID', 'Date', 'Month', 'Year', 'Name', 'Text']\n",
    "data = pd.DataFrame(columns=columns)"
   ]
  },
  {
   "cell_type": "markdown",
   "metadata": {},
   "source": [
    "#### Append data to DataFrames\n",
    "Immediately from the XML files, I want to retrieve data for the following columns: document ID, date, month, year, mentioned names, article text.  \n",
    "This data is to be appended to a pandas DataFrame."
   ]
  },
  {
   "cell_type": "code",
   "execution_count": 4,
   "metadata": {},
   "outputs": [
    {
     "data": {
      "text/html": [
       "<div>\n",
       "<style>\n",
       "    .dataframe thead tr:only-child th {\n",
       "        text-align: right;\n",
       "    }\n",
       "\n",
       "    .dataframe thead th {\n",
       "        text-align: left;\n",
       "    }\n",
       "\n",
       "    .dataframe tbody tr th {\n",
       "        vertical-align: top;\n",
       "    }\n",
       "</style>\n",
       "<table border=\"1\" class=\"dataframe\">\n",
       "  <thead>\n",
       "    <tr style=\"text-align: right;\">\n",
       "      <th></th>\n",
       "      <th>DOCID</th>\n",
       "      <th>Date</th>\n",
       "      <th>Month</th>\n",
       "      <th>Year</th>\n",
       "      <th>Name</th>\n",
       "      <th>Text</th>\n",
       "    </tr>\n",
       "  </thead>\n",
       "  <tbody>\n",
       "    <tr>\n",
       "      <th>0</th>\n",
       "      <td>1816122</td>\n",
       "      <td>3</td>\n",
       "      <td>1</td>\n",
       "      <td>2007</td>\n",
       "      <td>FORD, GERALD RUDOLPH JR</td>\n",
       "      <td>None</td>\n",
       "    </tr>\n",
       "    <tr>\n",
       "      <th>0</th>\n",
       "      <td>1816122</td>\n",
       "      <td>3</td>\n",
       "      <td>1</td>\n",
       "      <td>2007</td>\n",
       "      <td>FORD, BETTY</td>\n",
       "      <td>None</td>\n",
       "    </tr>\n",
       "    <tr>\n",
       "      <th>0</th>\n",
       "      <td>1816122</td>\n",
       "      <td>3</td>\n",
       "      <td>1</td>\n",
       "      <td>2007</td>\n",
       "      <td>BUSH, GEORGE W (PRES)</td>\n",
       "      <td>None</td>\n",
       "    </tr>\n",
       "    <tr>\n",
       "      <th>0</th>\n",
       "      <td>1816136</td>\n",
       "      <td>3</td>\n",
       "      <td>1</td>\n",
       "      <td>2007</td>\n",
       "      <td>BENBROOK, CHARLES M</td>\n",
       "      <td>to the editor:</td>\n",
       "    </tr>\n",
       "    <tr>\n",
       "      <th>0</th>\n",
       "      <td>1816095</td>\n",
       "      <td>3</td>\n",
       "      <td>1</td>\n",
       "      <td>2007</td>\n",
       "      <td>TAPLIN, JONATHAN T</td>\n",
       "      <td>in 1997, jonathan t. taplin, a veteran film an...</td>\n",
       "    </tr>\n",
       "  </tbody>\n",
       "</table>\n",
       "</div>"
      ],
      "text/plain": [
       "     DOCID Date Month  Year                     Name  \\\n",
       "0  1816122    3     1  2007  FORD, GERALD RUDOLPH JR   \n",
       "0  1816122    3     1  2007              FORD, BETTY   \n",
       "0  1816122    3     1  2007    BUSH, GEORGE W (PRES)   \n",
       "0  1816136    3     1  2007      BENBROOK, CHARLES M   \n",
       "0  1816095    3     1  2007       TAPLIN, JONATHAN T   \n",
       "\n",
       "                                                Text  \n",
       "0                                               None  \n",
       "0                                               None  \n",
       "0                                               None  \n",
       "0                                     to the editor:  \n",
       "0  in 1997, jonathan t. taplin, a veteran film an...  "
      ]
     },
     "execution_count": 4,
     "metadata": {},
     "output_type": "execute_result"
    }
   ],
   "source": [
    "# open each xml file in the specified folder, open it and print out the names of mentioned people\n",
    "for file in glob.glob(\"../data/NYT Corpus/nyt_corpus/data/2007/01/*/*.xml\"):\n",
    "    # parse the xml file into an element tree to extract data\n",
    "    tree = Et.parse(file)\n",
    "    root = tree.getroot()\n",
    "    \n",
    "    # get document id information (not sure if I need this yet, seems like it could be helpful)\n",
    "    docid = root.find('.//doc-id[@id-string]').attrib['id-string']\n",
    "    \n",
    "    # get publication date information\n",
    "    date = root.find(\".//meta[@name='publication_day_of_month']\").attrib['content']\n",
    "    month = root.find(\".//meta[@name='publication_month']\").attrib['content']\n",
    "    year = root.find(\".//meta[@name='publication_year']\").attrib['content']\n",
    "    \n",
    "    # get article text information\n",
    "    # some articles seem to lack text - this is caught and handled in the if/else\n",
    "    article = root.find(\".//block[@class='full_text']/p\")\n",
    "    if article is not None:\n",
    "        text = (article.text).lower()\n",
    "    else:\n",
    "        text = None\n",
    "        \n",
    "    # for each person mentioned, create a new row of data for them in the dataframe    \n",
    "    for c in root.iter('person'):\n",
    "        name = str(c.text).upper()\n",
    "        data = data.append([{'DOCID': docid, 'Date': date, 'Month': month, 'Year': year, 'Name': name, 'Text': text}])\n",
    "data.head()"
   ]
  },
  {
   "cell_type": "markdown",
   "metadata": {},
   "source": [
    "#### Start tweaking the DataFrame to make it more useful"
   ]
  },
  {
   "cell_type": "code",
   "execution_count": 5,
   "metadata": {},
   "outputs": [
    {
     "data": {
      "text/html": [
       "<div>\n",
       "<style>\n",
       "    .dataframe thead tr:only-child th {\n",
       "        text-align: right;\n",
       "    }\n",
       "\n",
       "    .dataframe thead th {\n",
       "        text-align: left;\n",
       "    }\n",
       "\n",
       "    .dataframe tbody tr th {\n",
       "        vertical-align: top;\n",
       "    }\n",
       "</style>\n",
       "<table border=\"1\" class=\"dataframe\">\n",
       "  <thead>\n",
       "    <tr style=\"text-align: right;\">\n",
       "      <th></th>\n",
       "      <th>Date</th>\n",
       "      <th>Month</th>\n",
       "      <th>Year</th>\n",
       "      <th>Name</th>\n",
       "      <th>Text</th>\n",
       "    </tr>\n",
       "    <tr>\n",
       "      <th>DOCID</th>\n",
       "      <th></th>\n",
       "      <th></th>\n",
       "      <th></th>\n",
       "      <th></th>\n",
       "      <th></th>\n",
       "    </tr>\n",
       "  </thead>\n",
       "  <tbody>\n",
       "    <tr>\n",
       "      <th>1816122</th>\n",
       "      <td>3</td>\n",
       "      <td>1</td>\n",
       "      <td>2007</td>\n",
       "      <td>FORD, GERALD RUDOLPH JR</td>\n",
       "      <td>None</td>\n",
       "    </tr>\n",
       "    <tr>\n",
       "      <th>1816122</th>\n",
       "      <td>3</td>\n",
       "      <td>1</td>\n",
       "      <td>2007</td>\n",
       "      <td>FORD, BETTY</td>\n",
       "      <td>None</td>\n",
       "    </tr>\n",
       "    <tr>\n",
       "      <th>1816122</th>\n",
       "      <td>3</td>\n",
       "      <td>1</td>\n",
       "      <td>2007</td>\n",
       "      <td>BUSH, GEORGE W (PRES)</td>\n",
       "      <td>None</td>\n",
       "    </tr>\n",
       "    <tr>\n",
       "      <th>1816136</th>\n",
       "      <td>3</td>\n",
       "      <td>1</td>\n",
       "      <td>2007</td>\n",
       "      <td>BENBROOK, CHARLES M</td>\n",
       "      <td>to the editor:</td>\n",
       "    </tr>\n",
       "    <tr>\n",
       "      <th>1816095</th>\n",
       "      <td>3</td>\n",
       "      <td>1</td>\n",
       "      <td>2007</td>\n",
       "      <td>TAPLIN, JONATHAN T</td>\n",
       "      <td>in 1997, jonathan t. taplin, a veteran film an...</td>\n",
       "    </tr>\n",
       "  </tbody>\n",
       "</table>\n",
       "</div>"
      ],
      "text/plain": [
       "        Date Month  Year                     Name  \\\n",
       "DOCID                                               \n",
       "1816122    3     1  2007  FORD, GERALD RUDOLPH JR   \n",
       "1816122    3     1  2007              FORD, BETTY   \n",
       "1816122    3     1  2007    BUSH, GEORGE W (PRES)   \n",
       "1816136    3     1  2007      BENBROOK, CHARLES M   \n",
       "1816095    3     1  2007       TAPLIN, JONATHAN T   \n",
       "\n",
       "                                                      Text  \n",
       "DOCID                                                       \n",
       "1816122                                               None  \n",
       "1816122                                               None  \n",
       "1816122                                               None  \n",
       "1816136                                     to the editor:  \n",
       "1816095  in 1997, jonathan t. taplin, a veteran film an...  "
      ]
     },
     "execution_count": 5,
     "metadata": {},
     "output_type": "execute_result"
    }
   ],
   "source": [
    "# make the docid the index\n",
    "data = data.set_index('DOCID')\n",
    "data.head()"
   ]
  },
  {
   "cell_type": "markdown",
   "metadata": {},
   "source": [
    "#### Create a new column with parsed text\n",
    "This is to create a new column associated with each person that contains the text of the article they are mentioned in, but it is parsed using NLTK.word_tokenize. I can then use this column later for futher analysis."
   ]
  },
  {
   "cell_type": "code",
   "execution_count": 6,
   "metadata": {},
   "outputs": [
    {
     "data": {
      "text/html": [
       "<div>\n",
       "<style>\n",
       "    .dataframe thead tr:only-child th {\n",
       "        text-align: right;\n",
       "    }\n",
       "\n",
       "    .dataframe thead th {\n",
       "        text-align: left;\n",
       "    }\n",
       "\n",
       "    .dataframe tbody tr th {\n",
       "        vertical-align: top;\n",
       "    }\n",
       "</style>\n",
       "<table border=\"1\" class=\"dataframe\">\n",
       "  <thead>\n",
       "    <tr style=\"text-align: right;\">\n",
       "      <th></th>\n",
       "      <th>Date</th>\n",
       "      <th>Month</th>\n",
       "      <th>Year</th>\n",
       "      <th>Name</th>\n",
       "      <th>Text</th>\n",
       "      <th>Tokenized</th>\n",
       "    </tr>\n",
       "    <tr>\n",
       "      <th>DOCID</th>\n",
       "      <th></th>\n",
       "      <th></th>\n",
       "      <th></th>\n",
       "      <th></th>\n",
       "      <th></th>\n",
       "      <th></th>\n",
       "    </tr>\n",
       "  </thead>\n",
       "  <tbody>\n",
       "    <tr>\n",
       "      <th>1816122</th>\n",
       "      <td>3</td>\n",
       "      <td>1</td>\n",
       "      <td>2007</td>\n",
       "      <td>FORD, GERALD RUDOLPH JR</td>\n",
       "      <td>None</td>\n",
       "      <td>[None]</td>\n",
       "    </tr>\n",
       "    <tr>\n",
       "      <th>1816122</th>\n",
       "      <td>3</td>\n",
       "      <td>1</td>\n",
       "      <td>2007</td>\n",
       "      <td>FORD, BETTY</td>\n",
       "      <td>None</td>\n",
       "      <td>[None]</td>\n",
       "    </tr>\n",
       "    <tr>\n",
       "      <th>1816122</th>\n",
       "      <td>3</td>\n",
       "      <td>1</td>\n",
       "      <td>2007</td>\n",
       "      <td>BUSH, GEORGE W (PRES)</td>\n",
       "      <td>None</td>\n",
       "      <td>[None]</td>\n",
       "    </tr>\n",
       "    <tr>\n",
       "      <th>1816136</th>\n",
       "      <td>3</td>\n",
       "      <td>1</td>\n",
       "      <td>2007</td>\n",
       "      <td>BENBROOK, CHARLES M</td>\n",
       "      <td>to the editor:</td>\n",
       "      <td>[to, the, editor, :]</td>\n",
       "    </tr>\n",
       "    <tr>\n",
       "      <th>1816095</th>\n",
       "      <td>3</td>\n",
       "      <td>1</td>\n",
       "      <td>2007</td>\n",
       "      <td>TAPLIN, JONATHAN T</td>\n",
       "      <td>in 1997, jonathan t. taplin, a veteran film an...</td>\n",
       "      <td>[in, 1997, ,, jonathan, t., taplin, ,, a, vete...</td>\n",
       "    </tr>\n",
       "  </tbody>\n",
       "</table>\n",
       "</div>"
      ],
      "text/plain": [
       "        Date Month  Year                     Name  \\\n",
       "DOCID                                               \n",
       "1816122    3     1  2007  FORD, GERALD RUDOLPH JR   \n",
       "1816122    3     1  2007              FORD, BETTY   \n",
       "1816122    3     1  2007    BUSH, GEORGE W (PRES)   \n",
       "1816136    3     1  2007      BENBROOK, CHARLES M   \n",
       "1816095    3     1  2007       TAPLIN, JONATHAN T   \n",
       "\n",
       "                                                      Text  \\\n",
       "DOCID                                                        \n",
       "1816122                                               None   \n",
       "1816122                                               None   \n",
       "1816122                                               None   \n",
       "1816136                                     to the editor:   \n",
       "1816095  in 1997, jonathan t. taplin, a veteran film an...   \n",
       "\n",
       "                                                 Tokenized  \n",
       "DOCID                                                       \n",
       "1816122                                             [None]  \n",
       "1816122                                             [None]  \n",
       "1816122                                             [None]  \n",
       "1816136                               [to, the, editor, :]  \n",
       "1816095  [in, 1997, ,, jonathan, t., taplin, ,, a, vete...  "
      ]
     },
     "execution_count": 6,
     "metadata": {},
     "output_type": "execute_result"
    }
   ],
   "source": [
    "# create function to tokenize the Text\n",
    "def tokenizeText(col):\n",
    "    return nltk.word_tokenize(str(col))\n",
    "\n",
    "data['Tokenized'] = data['Text'].apply(tokenizeText)\n",
    "data.head()"
   ]
  },
  {
   "cell_type": "markdown",
   "metadata": {},
   "source": [
    "#### Right now, I want to be able to do the sentiment analysis on individual people\n",
    "Once I can do sentiment analysis on individual people, I can further broaden that multiple people. When the script is later modified to process the entirety of the NYT corpus, I can aggregate frequent names and then analyze those names over time. Baby steps now I suppose."
   ]
  },
  {
   "cell_type": "code",
   "execution_count": 7,
   "metadata": {},
   "outputs": [
    {
     "data": {
      "text/plain": [
       "['None']"
      ]
     },
     "execution_count": 7,
     "metadata": {},
     "output_type": "execute_result"
    }
   ],
   "source": [
    "# make a function that removes stopwords\n",
    "def filter(toks):\n",
    "    sw = set(stopwords.words('english'))\n",
    "    others = ['--']\n",
    "    filtered = [w for w in toks \n",
    "                if not w in sw \n",
    "                if not w in string.punctuation \n",
    "                if not w in others\n",
    "               ]\n",
    "    return filtered\n",
    "\n",
    "\n",
    "t = data.iloc[0]['Tokenized']\n",
    "filter(t)"
   ]
  },
  {
   "cell_type": "code",
   "execution_count": 8,
   "metadata": {},
   "outputs": [
    {
     "data": {
      "text/html": [
       "<div>\n",
       "<style>\n",
       "    .dataframe thead tr:only-child th {\n",
       "        text-align: right;\n",
       "    }\n",
       "\n",
       "    .dataframe thead th {\n",
       "        text-align: left;\n",
       "    }\n",
       "\n",
       "    .dataframe tbody tr th {\n",
       "        vertical-align: top;\n",
       "    }\n",
       "</style>\n",
       "<table border=\"1\" class=\"dataframe\">\n",
       "  <thead>\n",
       "    <tr style=\"text-align: right;\">\n",
       "      <th></th>\n",
       "      <th>Date</th>\n",
       "      <th>Month</th>\n",
       "      <th>Year</th>\n",
       "      <th>Name</th>\n",
       "      <th>Text</th>\n",
       "      <th>Tokenized</th>\n",
       "    </tr>\n",
       "    <tr>\n",
       "      <th>DOCID</th>\n",
       "      <th></th>\n",
       "      <th></th>\n",
       "      <th></th>\n",
       "      <th></th>\n",
       "      <th></th>\n",
       "      <th></th>\n",
       "    </tr>\n",
       "  </thead>\n",
       "  <tbody>\n",
       "    <tr>\n",
       "      <th>1816122</th>\n",
       "      <td>3</td>\n",
       "      <td>1</td>\n",
       "      <td>2007</td>\n",
       "      <td>FORD, GERALD RUDOLPH JR</td>\n",
       "      <td>None</td>\n",
       "      <td>[None]</td>\n",
       "    </tr>\n",
       "    <tr>\n",
       "      <th>1816122</th>\n",
       "      <td>3</td>\n",
       "      <td>1</td>\n",
       "      <td>2007</td>\n",
       "      <td>FORD, BETTY</td>\n",
       "      <td>None</td>\n",
       "      <td>[None]</td>\n",
       "    </tr>\n",
       "    <tr>\n",
       "      <th>1816122</th>\n",
       "      <td>3</td>\n",
       "      <td>1</td>\n",
       "      <td>2007</td>\n",
       "      <td>BUSH, GEORGE W (PRES)</td>\n",
       "      <td>None</td>\n",
       "      <td>[None]</td>\n",
       "    </tr>\n",
       "    <tr>\n",
       "      <th>1816136</th>\n",
       "      <td>3</td>\n",
       "      <td>1</td>\n",
       "      <td>2007</td>\n",
       "      <td>BENBROOK, CHARLES M</td>\n",
       "      <td>to the editor:</td>\n",
       "      <td>[editor]</td>\n",
       "    </tr>\n",
       "    <tr>\n",
       "      <th>1816095</th>\n",
       "      <td>3</td>\n",
       "      <td>1</td>\n",
       "      <td>2007</td>\n",
       "      <td>TAPLIN, JONATHAN T</td>\n",
       "      <td>in 1997, jonathan t. taplin, a veteran film an...</td>\n",
       "      <td>[1997, jonathan, t., taplin, veteran, film, te...</td>\n",
       "    </tr>\n",
       "  </tbody>\n",
       "</table>\n",
       "</div>"
      ],
      "text/plain": [
       "        Date Month  Year                     Name  \\\n",
       "DOCID                                               \n",
       "1816122    3     1  2007  FORD, GERALD RUDOLPH JR   \n",
       "1816122    3     1  2007              FORD, BETTY   \n",
       "1816122    3     1  2007    BUSH, GEORGE W (PRES)   \n",
       "1816136    3     1  2007      BENBROOK, CHARLES M   \n",
       "1816095    3     1  2007       TAPLIN, JONATHAN T   \n",
       "\n",
       "                                                      Text  \\\n",
       "DOCID                                                        \n",
       "1816122                                               None   \n",
       "1816122                                               None   \n",
       "1816122                                               None   \n",
       "1816136                                     to the editor:   \n",
       "1816095  in 1997, jonathan t. taplin, a veteran film an...   \n",
       "\n",
       "                                                 Tokenized  \n",
       "DOCID                                                       \n",
       "1816122                                             [None]  \n",
       "1816122                                             [None]  \n",
       "1816122                                             [None]  \n",
       "1816136                                           [editor]  \n",
       "1816095  [1997, jonathan, t., taplin, veteran, film, te...  "
      ]
     },
     "execution_count": 8,
     "metadata": {},
     "output_type": "execute_result"
    }
   ],
   "source": [
    "# map my new filter function to the dataframe\n",
    "# this will clean up the Tokenized column to do work on\n",
    "data[\"Tokenized\"] = data[\"Tokenized\"].apply(lambda x: filter(x))\n",
    "data.head()"
   ]
  },
  {
   "cell_type": "markdown",
   "metadata": {},
   "source": [
    "#### I'm gonna try to use NLTK's SentimentAnalyzer package. Because this returns intensity scores, I can possibly use early data to make improvements upon the analyzer later on. I have an idea on how I could try this, but will try this later on."
   ]
  },
  {
   "cell_type": "code",
   "execution_count": 9,
   "metadata": {},
   "outputs": [
    {
     "name": "stderr",
     "output_type": "stream",
     "text": [
      "/Library/Frameworks/Python.framework/Versions/3.6/lib/python3.6/site-packages/nltk/twitter/__init__.py:20: UserWarning: The twython library has not been installed. Some functionality from the twitter package will not be available.\n",
      "  warnings.warn(\"The twython library has not been installed. \"\n"
     ]
    },
    {
     "data": {
      "text/plain": [
       "{'compound': 0.0, 'neg': 0.0, 'neu': 1.0, 'pos': 0.0}"
      ]
     },
     "execution_count": 9,
     "metadata": {},
     "output_type": "execute_result"
    }
   ],
   "source": [
    "from nltk.sentiment.vader import SentimentIntensityAnalyzer\n",
    "sia = SentimentIntensityAnalyzer()\n",
    "\n",
    "# data.iloc[0]['Tokenized']\n",
    "sia.polarity_scores(\" \".join(data.iloc[0]['Tokenized']))"
   ]
  },
  {
   "cell_type": "markdown",
   "metadata": {},
   "source": [
    "#### The SentimentIntensityAnalyzer returns 4 categories of scores:\n",
    "pos = the positive score  \n",
    "neg = the negative score  \n",
    "neu = the neutral score  \n",
    "compound = intensity of positive or negative"
   ]
  },
  {
   "cell_type": "code",
   "execution_count": 10,
   "metadata": {},
   "outputs": [
    {
     "data": {
      "text/html": [
       "<div>\n",
       "<style>\n",
       "    .dataframe thead tr:only-child th {\n",
       "        text-align: right;\n",
       "    }\n",
       "\n",
       "    .dataframe thead th {\n",
       "        text-align: left;\n",
       "    }\n",
       "\n",
       "    .dataframe tbody tr th {\n",
       "        vertical-align: top;\n",
       "    }\n",
       "</style>\n",
       "<table border=\"1\" class=\"dataframe\">\n",
       "  <thead>\n",
       "    <tr style=\"text-align: right;\">\n",
       "      <th></th>\n",
       "      <th>Date</th>\n",
       "      <th>Month</th>\n",
       "      <th>Year</th>\n",
       "      <th>Name</th>\n",
       "      <th>COM</th>\n",
       "      <th>NEG</th>\n",
       "      <th>NEU</th>\n",
       "      <th>POS</th>\n",
       "    </tr>\n",
       "    <tr>\n",
       "      <th>DOCID</th>\n",
       "      <th></th>\n",
       "      <th></th>\n",
       "      <th></th>\n",
       "      <th></th>\n",
       "      <th></th>\n",
       "      <th></th>\n",
       "      <th></th>\n",
       "      <th></th>\n",
       "    </tr>\n",
       "  </thead>\n",
       "  <tbody>\n",
       "    <tr>\n",
       "      <th>1816122</th>\n",
       "      <td>3</td>\n",
       "      <td>1</td>\n",
       "      <td>2007</td>\n",
       "      <td>FORD, GERALD RUDOLPH JR</td>\n",
       "      <td>0.0000</td>\n",
       "      <td>0.0</td>\n",
       "      <td>1.000</td>\n",
       "      <td>0.000</td>\n",
       "    </tr>\n",
       "    <tr>\n",
       "      <th>1816122</th>\n",
       "      <td>3</td>\n",
       "      <td>1</td>\n",
       "      <td>2007</td>\n",
       "      <td>FORD, BETTY</td>\n",
       "      <td>0.0000</td>\n",
       "      <td>0.0</td>\n",
       "      <td>1.000</td>\n",
       "      <td>0.000</td>\n",
       "    </tr>\n",
       "    <tr>\n",
       "      <th>1816122</th>\n",
       "      <td>3</td>\n",
       "      <td>1</td>\n",
       "      <td>2007</td>\n",
       "      <td>BUSH, GEORGE W (PRES)</td>\n",
       "      <td>0.0000</td>\n",
       "      <td>0.0</td>\n",
       "      <td>1.000</td>\n",
       "      <td>0.000</td>\n",
       "    </tr>\n",
       "    <tr>\n",
       "      <th>1816136</th>\n",
       "      <td>3</td>\n",
       "      <td>1</td>\n",
       "      <td>2007</td>\n",
       "      <td>BENBROOK, CHARLES M</td>\n",
       "      <td>0.0000</td>\n",
       "      <td>0.0</td>\n",
       "      <td>1.000</td>\n",
       "      <td>0.000</td>\n",
       "    </tr>\n",
       "    <tr>\n",
       "      <th>1816095</th>\n",
       "      <td>3</td>\n",
       "      <td>1</td>\n",
       "      <td>2007</td>\n",
       "      <td>TAPLIN, JONATHAN T</td>\n",
       "      <td>0.4588</td>\n",
       "      <td>0.0</td>\n",
       "      <td>0.925</td>\n",
       "      <td>0.075</td>\n",
       "    </tr>\n",
       "  </tbody>\n",
       "</table>\n",
       "</div>"
      ],
      "text/plain": [
       "        Date Month  Year                     Name     COM  NEG    NEU    POS\n",
       "DOCID                                                                       \n",
       "1816122    3     1  2007  FORD, GERALD RUDOLPH JR  0.0000  0.0  1.000  0.000\n",
       "1816122    3     1  2007              FORD, BETTY  0.0000  0.0  1.000  0.000\n",
       "1816122    3     1  2007    BUSH, GEORGE W (PRES)  0.0000  0.0  1.000  0.000\n",
       "1816136    3     1  2007      BENBROOK, CHARLES M  0.0000  0.0  1.000  0.000\n",
       "1816095    3     1  2007       TAPLIN, JONATHAN T  0.4588  0.0  0.925  0.075"
      ]
     },
     "execution_count": 10,
     "metadata": {},
     "output_type": "execute_result"
    },
    {
     "data": {
      "text/html": [
       "<div>\n",
       "<style>\n",
       "    .dataframe thead tr:only-child th {\n",
       "        text-align: right;\n",
       "    }\n",
       "\n",
       "    .dataframe thead th {\n",
       "        text-align: left;\n",
       "    }\n",
       "\n",
       "    .dataframe tbody tr th {\n",
       "        vertical-align: top;\n",
       "    }\n",
       "</style>\n",
       "<table border=\"1\" class=\"dataframe\">\n",
       "  <thead>\n",
       "    <tr style=\"text-align: right;\">\n",
       "      <th></th>\n",
       "      <th>Date</th>\n",
       "      <th>Month</th>\n",
       "      <th>Year</th>\n",
       "      <th>Name</th>\n",
       "      <th>COM</th>\n",
       "      <th>NEG</th>\n",
       "      <th>NEU</th>\n",
       "      <th>POS</th>\n",
       "    </tr>\n",
       "    <tr>\n",
       "      <th>DOCID</th>\n",
       "      <th></th>\n",
       "      <th></th>\n",
       "      <th></th>\n",
       "      <th></th>\n",
       "      <th></th>\n",
       "      <th></th>\n",
       "      <th></th>\n",
       "      <th></th>\n",
       "    </tr>\n",
       "  </thead>\n",
       "  <tbody>\n",
       "    <tr>\n",
       "      <th>1821230</th>\n",
       "      <td>25</td>\n",
       "      <td>1</td>\n",
       "      <td>2007</td>\n",
       "      <td>WALAT, KATHRYN</td>\n",
       "      <td>0.0000</td>\n",
       "      <td>0.074</td>\n",
       "      <td>0.885</td>\n",
       "      <td>0.042</td>\n",
       "    </tr>\n",
       "    <tr>\n",
       "      <th>1821230</th>\n",
       "      <td>25</td>\n",
       "      <td>1</td>\n",
       "      <td>2007</td>\n",
       "      <td>GRECO, LORETTA</td>\n",
       "      <td>0.0000</td>\n",
       "      <td>0.074</td>\n",
       "      <td>0.885</td>\n",
       "      <td>0.042</td>\n",
       "    </tr>\n",
       "    <tr>\n",
       "      <th>1821230</th>\n",
       "      <td>25</td>\n",
       "      <td>1</td>\n",
       "      <td>2007</td>\n",
       "      <td>CAMPBELL, JESSI</td>\n",
       "      <td>0.0000</td>\n",
       "      <td>0.074</td>\n",
       "      <td>0.885</td>\n",
       "      <td>0.042</td>\n",
       "    </tr>\n",
       "    <tr>\n",
       "      <th>1821230</th>\n",
       "      <td>25</td>\n",
       "      <td>1</td>\n",
       "      <td>2007</td>\n",
       "      <td>GRECO, LORETTA</td>\n",
       "      <td>0.0000</td>\n",
       "      <td>0.074</td>\n",
       "      <td>0.885</td>\n",
       "      <td>0.042</td>\n",
       "    </tr>\n",
       "    <tr>\n",
       "      <th>1821218</th>\n",
       "      <td>25</td>\n",
       "      <td>1</td>\n",
       "      <td>2007</td>\n",
       "      <td>KUCZYNSKI, ALEX</td>\n",
       "      <td>0.1901</td>\n",
       "      <td>0.000</td>\n",
       "      <td>0.941</td>\n",
       "      <td>0.059</td>\n",
       "    </tr>\n",
       "  </tbody>\n",
       "</table>\n",
       "</div>"
      ],
      "text/plain": [
       "        Date Month  Year             Name     COM    NEG    NEU    POS\n",
       "DOCID                                                                 \n",
       "1821230   25     1  2007   WALAT, KATHRYN  0.0000  0.074  0.885  0.042\n",
       "1821230   25     1  2007   GRECO, LORETTA  0.0000  0.074  0.885  0.042\n",
       "1821230   25     1  2007  CAMPBELL, JESSI  0.0000  0.074  0.885  0.042\n",
       "1821230   25     1  2007   GRECO, LORETTA  0.0000  0.074  0.885  0.042\n",
       "1821218   25     1  2007  KUCZYNSKI, ALEX  0.1901  0.000  0.941  0.059"
      ]
     },
     "execution_count": 10,
     "metadata": {},
     "output_type": "execute_result"
    }
   ],
   "source": [
    "# create a new dataframe with the polarities\n",
    "columns = ['DOCID', 'Date', 'Month', 'Year', 'Name', 'COM' ,'NEG', 'NEU', 'POS']\n",
    "polarities = pd.DataFrame(columns=columns)\n",
    "\n",
    "for i in range(len(data.index.values.tolist())):\n",
    "    row = data.iloc[i]\n",
    "    \n",
    "    scores = sia.polarity_scores(str(data.iloc[i]['Text']))\n",
    "    pos = scores.get('pos')\n",
    "    neu = scores.get('neu')\n",
    "    neg = scores.get('neg')\n",
    "    com = scores.get('compound')\n",
    "    \n",
    "    polarities = polarities.append([{'DOCID': row.name, 'Date': row['Date'], 'Month': row['Month'], 'Year': row['Year'], 'Name': row['Name'], 'COM': com,'NEG': neg, 'NEU': neu, 'POS': pos}])\n",
    "\n",
    "polarities = polarities.set_index('DOCID')\n",
    "polarities.head()\n",
    "polarities.tail()"
   ]
  },
  {
   "cell_type": "code",
   "execution_count": 11,
   "metadata": {},
   "outputs": [
    {
     "data": {
      "text/plain": [
       "109992"
      ]
     },
     "execution_count": 11,
     "metadata": {},
     "output_type": "execute_result"
    }
   ],
   "source": [
    "# check the size\n",
    "polarities.size"
   ]
  },
  {
   "cell_type": "markdown",
   "metadata": {},
   "source": [
    "Now, I want to see what duplicates are in the current dataframe for the month of Jan 2007"
   ]
  },
  {
   "cell_type": "code",
   "execution_count": 12,
   "metadata": {},
   "outputs": [
    {
     "data": {
      "text/plain": [
       "6456"
      ]
     },
     "execution_count": 12,
     "metadata": {},
     "output_type": "execute_result"
    },
    {
     "data": {
      "text/plain": [
       "13749"
      ]
     },
     "execution_count": 12,
     "metadata": {},
     "output_type": "execute_result"
    }
   ],
   "source": [
    "len(set(polarities.Name))\n",
    "len(polarities.Name)"
   ]
  },
  {
   "cell_type": "code",
   "execution_count": null,
   "metadata": {
    "collapsed": true
   },
   "outputs": [],
   "source": []
  },
  {
   "cell_type": "markdown",
   "metadata": {},
   "source": [
    "## Future Processing Tasks\n",
    "- I need more words that are positive/negative/neutral so that I can get better estimates about the sentiment of each article. \n",
    "- As my data grows bigger as I scale, I need to start saving my data structures instead of generating them each time I run the program"
   ]
  },
  {
   "cell_type": "code",
   "execution_count": null,
   "metadata": {
    "collapsed": true
   },
   "outputs": [],
   "source": []
  },
  {
   "cell_type": "code",
   "execution_count": null,
   "metadata": {
    "collapsed": true
   },
   "outputs": [],
   "source": []
  }
 ],
 "metadata": {
  "kernelspec": {
   "display_name": "Python 3",
   "language": "python",
   "name": "python3"
  },
  "language_info": {
   "codemirror_mode": {
    "name": "ipython",
    "version": 3
   },
   "file_extension": ".py",
   "mimetype": "text/x-python",
   "name": "python",
   "nbconvert_exporter": "python",
   "pygments_lexer": "ipython3",
   "version": "3.6.2"
  }
 },
 "nbformat": 4,
 "nbformat_minor": 1
}
